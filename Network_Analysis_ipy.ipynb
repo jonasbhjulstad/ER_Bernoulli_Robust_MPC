{
 "cells": [
  {
   "cell_type": "code",
   "execution_count": 5,
   "metadata": {},
   "outputs": [
    {
     "name": "stderr",
     "output_type": "stream",
     "text": [
      "WARNING (aesara.configdefaults): g++ not available, if using conda: `conda install m2w64-toolchain`\n",
      "WARNING (aesara.configdefaults): g++ not detected!  Aesara will be unable to compile C-implementations and will default to Python. Performance may be severely degraded. To remove this warning, set Aesara flags cxx to an empty string.\n",
      "WARNING (aesara.tensor.blas): Using NumPy C-API based implementation for BLAS functions.\n"
     ]
    },
    {
     "name": "stdout",
     "output_type": "stream",
     "text": [
      "no display found. Using non-interactive Agg backend\n"
     ]
    }
   ],
   "source": [
    "import numpy as np\n",
    "import matplotlib.pyplot as plt\n",
    "import networkx as nx\n",
    "import ndlib.models.epidemics as ep\n",
    "import ndlib.models.ModelConfig as mc\n",
    "from aesara import tensor as at\n",
    "from bokeh.io import output_notebook, show\n",
    "# from ndlib.viz.bokeh.DiffusionTrend import DiffusionTrend\n",
    "from ndlib.viz.mpl.TrendComparison import DiffusionTrendComparison\n",
    "import pysindy as ps\n"
   ]
  },
  {
   "cell_type": "code",
   "execution_count": 6,
   "metadata": {},
   "outputs": [],
   "source": [
    "def get_trajectory_matrix(trend):\n",
    "    return np.array([trend[0]['trends']['node_count'][i] for i in range(3)])"
   ]
  },
  {
   "cell_type": "code",
   "execution_count": 7,
   "metadata": {},
   "outputs": [],
   "source": [
    "# Network topology\n",
    "N_pop = 200\n",
    "g = nx.erdos_renyi_graph(N_pop, .3)\n",
    "N_sim = 100\n",
    "# 2° Model selection\n",
    "models = [ep.SIRModel(g) for i in range(N_sim)]\n",
    "\n",
    "# 2° Model Configuration\n",
    "cfg = mc.Configuration()\n",
    "cfg.add_model_parameter('beta', 0.01)\n",
    "cfg.add_model_parameter('gamma', 0.02)\n",
    "cfg.add_model_parameter(\"fraction_infected\", 0.1)\n",
    "[model.set_initial_status(cfg) for model in models]\n",
    "Nt = 200\n",
    "trends = []\n",
    "X = np.zeros((N_sim, 3, Nt))\n",
    "for i, model in enumerate(models):\n",
    "    iteration = model.iteration_bunch(Nt)\n",
    "    \n",
    "    trends.append(model.build_trends(iteration))\n",
    "    X[i, :, :] = get_trajectory_matrix(trends[-1])\n",
    "# 2° Simulation execution\n",
    "\n",
    "\n"
   ]
  },
  {
   "cell_type": "code",
   "execution_count": 9,
   "metadata": {},
   "outputs": [],
   "source": [
    "G = models[0].graph.graph\n",
    "fig, ax = plt.subplots(1, 1, figsize=(10, 10))\n",
    "import matplotlib\n",
    "matplotlib.use('QtAgg')\n",
    "nx.draw(G, width=.1, style='dashed', edge_color='r', node_color='k', ax=ax)\n",
    "fig.savefig('network.eps', format='eps')"
   ]
  },
  {
   "cell_type": "code",
   "execution_count": 10,
   "metadata": {},
   "outputs": [],
   "source": [
    "fig, ax = plt.subplots(3)\n",
    "for traj in X:\n",
    "    ax[0].plot(traj[0,:], color='y')\n",
    "    ax[1].plot(traj[1,:], color='r')\n",
    "    ax[2].plot(traj[2,:], color='b')\n",
    "plt.show()"
   ]
  },
  {
   "cell_type": "code",
   "execution_count": 11,
   "metadata": {},
   "outputs": [],
   "source": [
    "t = [*list(range(Nt))]*N_sim"
   ]
  },
  {
   "cell_type": "code",
   "execution_count": 12,
   "metadata": {},
   "outputs": [
    {
     "ename": "AttributeError",
     "evalue": "module 'pysindy' has no attribute 'Quantile_FROLS'",
     "output_type": "error",
     "traceback": [
      "\u001b[1;31m---------------------------------------------------------------------------\u001b[0m",
      "\u001b[1;31mAttributeError\u001b[0m                            Traceback (most recent call last)",
      "\u001b[1;32mc:\\Users\\jonas\\Documents\\Network_Robust_MPC\\Network_Analysis_ipy.ipynb Cell 7\u001b[0m in \u001b[0;36m<cell line: 4>\u001b[1;34m()\u001b[0m\n\u001b[0;32m      <a href='vscode-notebook-cell:/c%3A/Users/jonas/Documents/Network_Robust_MPC/Network_Analysis_ipy.ipynb#W6sZmlsZQ%3D%3D?line=1'>2</a>\u001b[0m X_2D \u001b[39m=\u001b[39m np\u001b[39m.\u001b[39mhstack([xk \u001b[39mfor\u001b[39;00m xk \u001b[39min\u001b[39;00m X])\n\u001b[0;32m      <a href='vscode-notebook-cell:/c%3A/Users/jonas/Documents/Network_Robust_MPC/Network_Analysis_ipy.ipynb#W6sZmlsZQ%3D%3D?line=2'>3</a>\u001b[0m threshold \u001b[39m=\u001b[39m \u001b[39m1e-6\u001b[39m\n\u001b[1;32m----> <a href='vscode-notebook-cell:/c%3A/Users/jonas/Documents/Network_Robust_MPC/Network_Analysis_ipy.ipynb#W6sZmlsZQ%3D%3D?line=3'>4</a>\u001b[0m reg_model \u001b[39m=\u001b[39m ps\u001b[39m.\u001b[39mSINDy(ps\u001b[39m.\u001b[39;49mQuantile_FROLS(verbose\u001b[39m=\u001b[39m\u001b[39mTrue\u001b[39;00m),\n\u001b[0;32m      <a href='vscode-notebook-cell:/c%3A/Users/jonas/Documents/Network_Robust_MPC/Network_Analysis_ipy.ipynb#W6sZmlsZQ%3D%3D?line=4'>5</a>\u001b[0m feature_library\u001b[39m=\u001b[39mps\u001b[39m.\u001b[39mPolynomialLibrary(degree\u001b[39m=\u001b[39m\u001b[39m2\u001b[39m))\n\u001b[0;32m      <a href='vscode-notebook-cell:/c%3A/Users/jonas/Documents/Network_Robust_MPC/Network_Analysis_ipy.ipynb#W6sZmlsZQ%3D%3D?line=7'>8</a>\u001b[0m reg_model\u001b[39m.\u001b[39mfit(X_2D[:,:Nt]\u001b[39m.\u001b[39mT)\n\u001b[0;32m      <a href='vscode-notebook-cell:/c%3A/Users/jonas/Documents/Network_Robust_MPC/Network_Analysis_ipy.ipynb#W6sZmlsZQ%3D%3D?line=8'>9</a>\u001b[0m \u001b[39m# dmd = DMD()\u001b[39;00m\n\u001b[0;32m     <a href='vscode-notebook-cell:/c%3A/Users/jonas/Documents/Network_Robust_MPC/Network_Analysis_ipy.ipynb#W6sZmlsZQ%3D%3D?line=9'>10</a>\u001b[0m \u001b[39m# dmd.fit(X_2D)\u001b[39;00m\n\u001b[0;32m     <a href='vscode-notebook-cell:/c%3A/Users/jonas/Documents/Network_Robust_MPC/Network_Analysis_ipy.ipynb#W6sZmlsZQ%3D%3D?line=10'>11</a>\u001b[0m \u001b[39m# for dynamics in dmd.dynamics:\u001b[39;00m\n\u001b[0;32m     <a href='vscode-notebook-cell:/c%3A/Users/jonas/Documents/Network_Robust_MPC/Network_Analysis_ipy.ipynb#W6sZmlsZQ%3D%3D?line=11'>12</a>\u001b[0m \u001b[39m#     plt.plot(t, dynamics.real)\u001b[39;00m\n",
      "\u001b[1;31mAttributeError\u001b[0m: module 'pysindy' has no attribute 'Quantile_FROLS'"
     ]
    }
   ],
   "source": [
    "from Quantile_FROLS import Quantile_FROLS\n",
    "X_2D = np.hstack([xk for xk in X])\n",
    "threshold = 1e-6\n",
    "reg_model = ps.SINDy(Quantile_FROLS(verbose=True),\n",
    "feature_library=ps.PolynomialLibrary(degree=2))\n",
    "\n",
    "\n",
    "reg_model.fit(X_2D[:,:Nt].T)\n",
    "# dmd = DMD()\n",
    "# dmd.fit(X_2D)\n",
    "# for dynamics in dmd.dynamics:\n",
    "#     plt.plot(t, dynamics.real)\n",
    "reg_model.print()\n"
   ]
  },
  {
   "cell_type": "code",
   "execution_count": null,
   "metadata": {},
   "outputs": [
    {
     "ename": "NameError",
     "evalue": "name 'plt' is not defined",
     "output_type": "error",
     "traceback": [
      "\u001b[1;31m---------------------------------------------------------------------------\u001b[0m",
      "\u001b[1;31mNameError\u001b[0m                                 Traceback (most recent call last)",
      "\u001b[1;32mc:\\Users\\jonas\\Documents\\Network_Robust_MPC\\Network_Analysis_ipy.ipynb Cell 8\u001b[0m in \u001b[0;36m<cell line: 2>\u001b[1;34m()\u001b[0m\n\u001b[0;32m      <a href='vscode-notebook-cell:/c%3A/Users/jonas/Documents/Network_Robust_MPC/Network_Analysis_ipy.ipynb#X10sZmlsZQ%3D%3D?line=0'>1</a>\u001b[0m \u001b[39mimport\u001b[39;00m \u001b[39mmatplotlib\u001b[39;00m\n\u001b[1;32m----> <a href='vscode-notebook-cell:/c%3A/Users/jonas/Documents/Network_Robust_MPC/Network_Analysis_ipy.ipynb#X10sZmlsZQ%3D%3D?line=1'>2</a>\u001b[0m plt\u001b[39m.\u001b[39mioff()\n\u001b[0;32m      <a href='vscode-notebook-cell:/c%3A/Users/jonas/Documents/Network_Robust_MPC/Network_Analysis_ipy.ipynb#X10sZmlsZQ%3D%3D?line=2'>3</a>\u001b[0m matplotlib\u001b[39m.\u001b[39muse(\u001b[39m'\u001b[39m\u001b[39mQtAgg\u001b[39m\u001b[39m'\u001b[39m)\n\u001b[0;32m      <a href='vscode-notebook-cell:/c%3A/Users/jonas/Documents/Network_Robust_MPC/Network_Analysis_ipy.ipynb#X10sZmlsZQ%3D%3D?line=3'>4</a>\u001b[0m sim \u001b[39m=\u001b[39m reg_model\u001b[39m.\u001b[39msimulate(x0\u001b[39m=\u001b[39mX_2D[:,Nt], t\u001b[39m=\u001b[39mnp\u001b[39m.\u001b[39mlinspace(\u001b[39m0\u001b[39m,\u001b[39m200\u001b[39m, \u001b[39m10000\u001b[39m))\n",
      "\u001b[1;31mNameError\u001b[0m: name 'plt' is not defined"
     ]
    }
   ],
   "source": [
    "import matplotlib\n",
    "plt.ioff()\n",
    "matplotlib.use('QtAgg')\n",
    "sim = reg_model.simulate(x0=X_2D[:,Nt], t=np.linspace(0,200, 10000))\n",
    "plt.plot(sim)\n",
    "plt.show()"
   ]
  },
  {
   "cell_type": "code",
   "execution_count": null,
   "metadata": {},
   "outputs": [],
   "source": []
  }
 ],
 "metadata": {
  "kernelspec": {
   "display_name": "Python ('Network_MPC')",
   "language": "python",
   "name": "python3"
  },
  "language_info": {
   "codemirror_mode": {
    "name": "ipython",
    "version": 3
   },
   "file_extension": ".py",
   "mimetype": "text/x-python",
   "name": "python",
   "nbconvert_exporter": "python",
   "pygments_lexer": "ipython3",
   "version": "3.10.5"
  },
  "orig_nbformat": 4,
  "vscode": {
   "interpreter": {
    "hash": "25a19fbe0a9132dfb9279d48d161753c6352f8f9478c2e74383d340069b907c3"
   }
  }
 },
 "nbformat": 4,
 "nbformat_minor": 2
}
