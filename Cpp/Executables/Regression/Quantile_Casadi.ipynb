{
 "cells": [
  {
   "cell_type": "code",
   "execution_count": 113,
   "metadata": {},
   "outputs": [],
   "source": [
    "from casadi import *\n",
    "import numpy as np\n",
    "import matplotlib.pyplot as plt\n",
    "import pandas as pd\n",
    "from sklearn.linear_model import QuantileRegressor"
   ]
  },
  {
   "cell_type": "code",
   "execution_count": 114,
   "metadata": {},
   "outputs": [
    {
     "data": {
      "text/plain": [
       "[<matplotlib.lines.Line2D at 0x7f7282ea02e0>]"
      ]
     },
     "execution_count": 114,
     "metadata": {},
     "output_type": "execute_result"
    },
    {
     "data": {
      "image/png": "[encoded data removed]",
      "text/plain": [
       "<Figure size 432x288 with 1 Axes>"
      ]
     },
     "metadata": {
      "needs_background": "light"
     },
     "output_type": "display_data"
    }
   ],
   "source": [
    "# generate quadratic data\n",
    "n = 100\n",
    "x = np.linspace(0, 1, n)\n",
    "y = 0.5 + 0.5 * x**2 + 0.02 * np.random.randn(n)\n",
    "X = np.vstack([np.ones_like(x), x, x**2]).T\n",
    "\n",
    "plt.plot(x, y, 'o')"
   ]
  },
  {
   "cell_type": "code",
   "execution_count": 115,
   "metadata": {},
   "outputs": [
    {
     "name": "stdout",
     "output_type": "stream",
     "text": [
      "This is Ipopt version 3.14.4, running with linear solver MUMPS 5.4.1.\n",
      "\n",
      "Number of nonzeros in equality constraint Jacobian...:    20600\n",
      "Number of nonzeros in inequality constraint Jacobian.:        0\n",
      "Number of nonzeros in Lagrangian Hessian.............:        0\n",
      "\n",
      "Total number of variables............................:      206\n",
      "                     variables with only lower bounds:      206\n",
      "                variables with lower and upper bounds:        0\n",
      "                     variables with only upper bounds:        0\n",
      "Total number of equality constraints.................:      100\n",
      "Total number of inequality constraints...............:        0\n",
      "        inequality constraints with only lower bounds:        0\n",
      "   inequality constraints with lower and upper bounds:        0\n",
      "        inequality constraints with only upper bounds:        0\n",
      "\n",
      "iter    objective    inf_pr   inf_du lg(mu)  ||d||  lg(rg) alpha_du alpha_pr  ls\n",
      "   0  1.0000000e+02 1.01e+00 1.43e+00  -1.0 0.00e+00    -  0.00e+00 0.00e+00   0\n",
      "   1  2.0095941e+01 8.88e-16 6.72e-01  -1.0 8.72e-01    -  5.96e-01 1.00e+00f  1\n",
      "   2  7.0631513e+00 8.88e-16 3.49e-02  -1.7 1.68e-01    -  9.57e-01 1.00e+00f  1\n",
      "   3  1.7074193e+00 9.99e-16 4.30e-03  -2.5 7.30e-01    -  8.55e-01 1.00e+00f  1\n",
      "   4  2.8585278e-01 8.88e-16 9.82e-04  -3.8 3.50e-01    -  9.68e-01 8.90e-01f  1\n",
      "   5  2.3145007e-01 1.33e-15 9.90e-02  -3.8 2.17e+00    -  4.77e-01 4.27e-01f  1\n",
      "   6  2.1006226e-01 2.22e-15 3.54e-01  -3.8 3.65e+00    -  5.09e-01 3.09e-01f  1\n",
      "   7  2.0271100e-01 2.78e-15 5.00e-01  -3.8 7.46e+00    -  6.89e-01 2.45e-01f  1\n",
      "   8  1.9266495e-01 2.29e-14 5.58e-01  -3.8 2.34e+01    -  3.12e-01 1.00e+00f  1\n",
      "   9  1.9221799e-01 2.72e-14 2.54e-01  -3.8 3.45e+01    -  6.13e-01 4.27e-01f  2\n",
      "iter    objective    inf_pr   inf_du lg(mu)  ||d||  lg(rg) alpha_du alpha_pr  ls\n",
      "  10  1.9192303e-01 8.77e-14 9.34e-02  -3.8 8.82e+01    -  4.90e-01 1.00e+00f  1\n",
      "  11  1.9191496e-01 1.36e-13 3.18e-02  -3.8 1.73e+02    -  6.00e-01 1.00e+00f  1\n",
      "  12  1.9188716e-01 4.64e-13 9.38e-03  -3.8 4.30e+02    -  5.86e-01 1.00e+00f  1\n",
      "  13  1.9188611e-01 1.02e-12 3.14e-03  -3.8 1.04e+03    -  6.25e-01 1.00e+00f  1\n",
      "  14  1.9188609e-01 2.09e-12 1.25e-03  -3.8 2.66e+03    -  6.00e-01 1.00e+00f  1\n",
      "  15  1.8157756e-01 2.54e-12 8.49e-03  -5.7 8.02e+01    -  5.88e-01 6.30e-01f  1\n",
      "  16  1.7819826e-01 2.73e-12 6.67e-02  -5.7 1.94e-03  -4.0 9.71e-01 5.98e-01f  1\n",
      "  17  1.7601612e-01 2.31e-12 2.22e-09  -5.7 6.62e-05  -4.5 1.00e+00 1.00e+00f  1\n",
      "  18  1.7582748e-01 3.39e-12 4.71e-05  -8.6 2.16e-05  -5.0 1.00e+00 9.89e-01f  1\n",
      "  19  1.7582550e-01 4.25e-12 2.55e-14  -8.6 3.70e+03    -  1.00e+00 1.00e+00f  1\n",
      "\n",
      "Number of Iterations....: 19\n",
      "\n",
      "                                   (scaled)                 (unscaled)\n",
      "Objective...............:   1.7582550082392950e-01    1.7582550082392950e-01\n",
      "Dual infeasibility......:   2.5525318436871059e-14    2.5525318436871059e-14\n",
      "Constraint violation....:   4.2478243145183114e-12    4.2478243145183114e-12\n",
      "Variable bound violation:   7.4942306331301832e-09    7.4942306331301832e-09\n",
      "Complementarity.........:   2.5068594682730124e-09    2.5068594682730124e-09\n",
      "Overall NLP error.......:   2.5068594682730124e-09    2.5068594682730124e-09\n",
      "\n",
      "\n",
      "Number of objective function evaluations             = 22\n",
      "Number of objective gradient evaluations             = 20\n",
      "Number of equality constraint evaluations            = 22\n",
      "Number of inequality constraint evaluations          = 0\n",
      "Number of equality constraint Jacobian evaluations   = 20\n",
      "Number of inequality constraint Jacobian evaluations = 0\n",
      "Number of Lagrangian Hessian evaluations             = 19\n",
      "Total seconds in IPOPT                               = 0.240\n",
      "\n",
      "EXIT: Optimal Solution Found.\n",
      "      solver  :   t_proc      (avg)   t_wall      (avg)    n_eval\n",
      "       nlp_f  | 748.00us ( 34.00us) 901.57us ( 40.98us)        22\n",
      "       nlp_g  | 995.00us ( 45.23us) 992.51us ( 45.11us)        22\n",
      "  nlp_grad_f  |   1.53ms ( 72.71us)   1.55ms ( 73.86us)        21\n",
      "  nlp_hess_l  |  53.00us (  2.79us)  42.63us (  2.24us)        19\n",
      "   nlp_jac_g  |  49.62ms (  2.36ms)  82.41ms (  3.92ms)        21\n",
      "       total  | 133.89ms (133.89ms) 239.92ms (239.92ms)         1\n"
     ]
    }
   ],
   "source": [
    "# define quantile regression model\n",
    "beta = MX.sym('beta', X.shape[1])\n",
    "u_pos = MX.sym('u+', x.shape[0])\n",
    "u_neg = MX.sym('u-', x.shape[0])\n",
    "theta_pos = MX.sym('theta_pos', X.shape[1])\n",
    "theta_neg = MX.sym('theta_pos', X.shape[1])\n",
    "N_rows = x.shape[0]\n",
    "\n",
    "# lbx = np.zeros(1 + N_rows*2)\n",
    "# ubx = np.zeros(1 + N_rows*2)\n",
    "# lbx[0] = -np.inf\n",
    "# ubx[0] = np.inf\n",
    "# lbx[1:N_rows+1] = 0\n",
    "# ubx[1:N_rows+1] = np.inf\n",
    "# lbx[N_rows+1:] = -np.inf\n",
    "# ubx[N_rows+1:] = 0\n",
    "# x0 = np.zeros(1 + N_rows*2)\n",
    "# x0[0] = 0.1\n",
    "# x0[1:N_rows+1] = 0.1\n",
    "# x0[N_rows+1:] = -0.1\n",
    "\n",
    "x0 = 0\n",
    "z = vertcat(theta_pos, theta_neg, u_pos, u_neg)\n",
    "tau = .95\n",
    "f_obj = 0\n",
    "g = []\n",
    "A = DM(np.vstack([X.T, -X.T, np.eye(x.shape[0]), -np.eye(x.shape[0])])).T\n",
    "\n",
    "g.append(A@z - y)\n",
    "\n",
    "N_theta = theta_pos.shape[0]\n",
    "theta_zero = np.zeros((N_theta, x.shape[0]))\n",
    "c = np.vstack([theta_zero, theta_zero, tau*np.identity(x.shape[0]), (1-tau)*np.identity(x.shape[0])])\n",
    "\n",
    "f_obj = sum1(c.T @ z)\n",
    "# for i in range(u_pos.shape[0]):\n",
    "# f_obj += tau*sum1(fmax(y - X @ beta, 0)) + (1-tau)*sum1(fmax(X@beta - y, 0))\n",
    "# f_obj = sum1(tau*(fmax(y - mtimes(X, beta), 0)) + (1-tau)*(fmax(mtimes(X, beta) - y, 0)))\n",
    "# f_obj = tau*sum1(u_pos) + (1-tau)*sum1(u_neg)\n",
    "# g.append(u_pos - fmax(u_pos, 0))\n",
    "# g.append(u_neg - fmin(u_neg, 0))\n",
    "# g.append(X @ beta + u_pos - u_neg - y)\n",
    "\n",
    "\n",
    "# solve model\n",
    "prob = {'f': f_obj, 'x': vertcat(theta_pos, theta_neg, u_pos, u_neg), 'g': vertcat(*g)}\n",
    "solver = nlpsol('solver', 'ipopt', prob)\n",
    "res = solver(x0=1, lbx=0, ubx=inf, lbg=0, ubg=0)\n",
    "beta_opt = res['x'][:X.shape[1]] - res['x'][X.shape[1]:2*X.shape[1]]\n"
   ]
  },
  {
   "cell_type": "code",
   "execution_count": 116,
   "metadata": {},
   "outputs": [
    {
     "data": {
      "text/plain": [
       "(206, 100)"
      ]
     },
     "execution_count": 116,
     "metadata": {},
     "output_type": "execute_result"
    }
   ],
   "source": [
    "c.shape\n"
   ]
  },
  {
   "cell_type": "code",
   "execution_count": 123,
   "metadata": {},
   "outputs": [
    {
     "data": {
      "text/plain": [
       "(100,)"
      ]
     },
     "execution_count": 123,
     "metadata": {},
     "output_type": "execute_result"
    },
    {
     "data": {
      "image/png": "[encoded data removed]",
      "text/plain": [
       "<Figure size 432x288 with 1 Axes>"
      ]
     },
     "metadata": {
      "needs_background": "light"
     },
     "output_type": "display_data"
    }
   ],
   "source": [
    "\n",
    "y_opt = (X @ beta_opt).full()\n",
    "reg = QuantileRegressor(quantile=tau, alpha=0)\n",
    "reg.fit(X, y)\n",
    "y_pred = reg.predict(X)\n",
    "plt.plot(x, y_pred)\n",
    "plt.plot(x, y, 'o')\n",
    "plt.plot(x, y_opt, 'x')\n",
    "x.shape"
   ]
  },
  {
   "cell_type": "code",
   "execution_count": 119,
   "metadata": {},
   "outputs": [
    {
     "data": {
      "text/plain": [
       "DM([0.545379, -0.0344287, 0.516417])"
      ]
     },
     "execution_count": 119,
     "metadata": {},
     "output_type": "execute_result"
    }
   ],
   "source": [
    "res['x'][:X.shape[1]] - res['x'][X.shape[1]:2*X.shape[1]]"
   ]
  }
 ],
 "metadata": {
  "kernelspec": {
   "display_name": "Python 3.10.7 ('Default')",
   "language": "python",
   "name": "python3"
  },
  "language_info": {
   "codemirror_mode": {
    "name": "ipython",
    "version": 3
   },
   "file_extension": ".py",
   "mimetype": "text/x-python",
   "name": "python",
   "nbconvert_exporter": "python",
   "pygments_lexer": "ipython3",
   "version": "3.10.7"
  },
  "orig_nbformat": 4,
  "vscode": {
   "interpreter": {
    "hash": "bb56dc89e29e58cd5d1070b976d9a8dbd1f41fb86c40d81c6b7441c976d6d680"
   }
  }
 },
 "nbformat": 4,
 "nbformat_minor": 2
}
