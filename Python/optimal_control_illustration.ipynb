{
 "cells": [
  {
   "cell_type": "code",
   "execution_count": 28,
   "metadata": {},
   "outputs": [
    {
     "data": {
      "image/png": "[encoded data removed]",
      "text/plain": [
       "<Figure size 432x288 with 1 Axes>"
      ]
     },
     "metadata": {},
     "output_type": "display_data"
    }
   ],
   "source": [
    "import matplotlib.pyplot as plt\n",
    "import numpy as np\n",
    "from ParameterConfig import DATA_DIR, FIGURE_DIR, ROOT_DIR\n",
    "\n",
    "#Plot inverse step function\n",
    "fig, ax = plt.subplots(1)\n",
    "x = np.zeros(100)\n",
    "for i in range(100):\n",
    "    if i < 20:\n",
    "        x[i] = 1\n",
    "    elif (i > 40) and (i <= 80):\n",
    "        x[i] = .7\n",
    "    elif i > 80:\n",
    "        x[i] = .2\n",
    "    else:\n",
    "        x[i] = 0\n",
    "ax.plot(x, label='Inverse step function', color='k', linestyle='dashed')\n",
    "#remove axis labels\n",
    "# plt.tick_params(axis='both', which='both', bottom=False, top=False, left=False, right=False, labelbottom=False,labeltop=True, labelleft=False)\n",
    "#remove tick labels but not axis\n",
    "\n",
    "ax.tick_params(axis='both', which='both', bottom=False, top=False, left=False, right=False, labelbottom=False, labelleft=False)\n",
    "#remove y axis labels\n",
    "fig.savefig('inverse_step.svg', format='svg')"
   ]
  }
 ],
 "metadata": {
  "kernelspec": {
   "display_name": "Python 3.10.5 ('Default')",
   "language": "python",
   "name": "python3"
  },
  "language_info": {
   "codemirror_mode": {
    "name": "ipython",
    "version": 3
   },
   "file_extension": ".py",
   "mimetype": "text/x-python",
   "name": "python",
   "nbconvert_exporter": "python",
   "pygments_lexer": "ipython3",
   "version": "3.10.5"
  },
  "orig_nbformat": 4,
  "vscode": {
   "interpreter": {
    "hash": "95313a7be8ede263c18f783d64ae8a5700a2c5efb3a48a28682de2dd828335b5"
   }
  }
 },
 "nbformat": 4,
 "nbformat_minor": 2
}
