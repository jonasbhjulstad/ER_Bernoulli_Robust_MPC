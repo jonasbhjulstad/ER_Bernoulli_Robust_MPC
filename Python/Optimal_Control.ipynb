{
 "cells": [
  {
   "cell_type": "code",
   "execution_count": null,
   "metadata": {
    "pycharm": {
     "name": "#%%\n"
    }
   },
   "outputs": [],
   "source": []
  }
 ],
 "metadata": {
  "kernelspec": {
   "display_name": "Python 3.10.5 ('Default')",
   "language": "python",
   "name": "python3"
  },
  "language_info": {
   "name": "python",
   "version": "3.10.5"
  },
  "orig_nbformat": 4,
  "vscode": {
   "interpreter": {
    "hash": "95313a7be8ede263c18f783d64ae8a5700a2c5efb3a48a28682de2dd828335b5"
   }
  }
 },
 "nbformat": 4,
 "nbformat_minor": 2
}