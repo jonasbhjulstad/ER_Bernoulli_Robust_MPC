{
 "cells": [
  {
   "cell_type": "code",
   "execution_count": 1,
   "metadata": {
    "pycharm": {
     "name": "#%%\n"
    }
   },
   "outputs": [],
   "source": [
    "import numpy as np\n",
    "import matplotlib.pyplot as plt\n",
    "from OCP_algorithms import hospital_capacity_objective_solve, quadratic_objective_solve, week_objective_solve\n",
    "\n",
    "from SIR_Plotting_Routines import *\n",
    "import pysindy as ps\n",
    "import glob\n",
    "import pandas as pd\n",
    "\n",
    "\n",
    "from os.path import basename\n",
    "import os\n",
    "import sys\n",
    "\n",
    "\n",
    "cwd = os.path.dirname(os.path.abspath(''))\n",
    "# sys.path.append(cwd + '/Cpp/build/Binders/')\n",
    "import pyFROLS as pf\n",
    "\n",
    "DATA_DIR = cwd + '/Cpp/data/'\n",
    "FIGURE_DIR = cwd + '/../../figures/'"
   ]
  },
  {
   "cell_type": "code",
   "execution_count": 2,
   "metadata": {
    "pycharm": {
     "name": "#%%\n"
    }
   },
   "outputs": [],
   "source": [
    "N_pop = 100\n",
    "p_ER = 1\n",
    "d_max = 1\n",
    "N_output_max = 80\n",
    "Nx = 3\n",
    "Nu = 1\n",
    "Nt = 50\n",
    "er_model = pf.Polynomial_Model(Nx,Nu,N_output_max,d_max)\n",
    "er_features = er_model.read_csv(DATA_DIR + 'ERR_Simulation_SIR_' + str(N_pop) + '_' + str(p_ER) + '/param.csv')\n"
   ]
  },
  {
   "cell_type": "code",
   "execution_count": null,
   "metadata": {},
   "outputs": [],
   "source": []
  },
  {
   "cell_type": "code",
   "execution_count": 3,
   "metadata": {},
   "outputs": [],
   "source": [
    "qr_model = pf.Polynomial_Model(Nx,Nu,N_output_max,d_max)\n",
    "qr_features = qr_model.read_csv(DATA_DIR + 'Quantile_Simulation_SIR_' + str(N_pop) + '_' + str(p_ER) + '/param.csv')"
   ]
  },
  {
   "cell_type": "code",
   "execution_count": 4,
   "metadata": {
    "pycharm": {
     "name": "#%%\n"
    }
   },
   "outputs": [],
   "source": [
    "from pysindy_casadi_converter import construct_mx_equations\n",
    "import casadi as cs\n"
   ]
  },
  {
   "cell_type": "code",
   "execution_count": 5,
   "metadata": {},
   "outputs": [
    {
     "data": {
      "text/plain": [
       "'/home/man/Documents/Bernoulli_MC/Cpp/data/'"
      ]
     },
     "execution_count": 5,
     "metadata": {},
     "output_type": "execute_result"
    }
   ],
   "source": [
    "DATA_DIR"
   ]
  },
  {
   "cell_type": "code",
   "execution_count": 6,
   "metadata": {},
   "outputs": [],
   "source": [
    "def load_SIR_trajectories():\n",
    "    trajs = glob.glob(DATA_DIR + 'ERR_Simulation_SIR_' + str(N_pop) + '_' + str(p_ER) + '/trajectory*.csv')\n",
    "    dfs = [pd.read_csv(traj) for traj in trajs[:100] if \"Quantile\" not in traj]\n",
    "    \n",
    "    # print(dfs[0].columns)\n",
    "    N_traj = len(dfs)\n",
    "    X = [df[['S', 'I', 'R']].to_numpy() for df in dfs]\n",
    "    U = [df['p_I'].to_numpy() for df in dfs]\n",
    "\n",
    "    return X, U\n",
    "\n",
    "X_sim, U_sim = load_SIR_trajectories()\n",
    "#get mean of all X_sim\n",
    "X_mean = np.mean(np.array(X_sim), axis=0)\n",
    "U_mean = np.mean(np.array(U_sim), axis=0)"
   ]
  },
  {
   "cell_type": "code",
   "execution_count": 7,
   "metadata": {},
   "outputs": [
    {
     "name": "stdout",
     "output_type": "stream",
     "text": [
      "size: 32\n"
     ]
    }
   ],
   "source": [
    "import random\n",
    "N_sims = 100\n",
    "p_I0 = 0.1\n",
    "# #generate integer seeds\n",
    "# qr_seeds = [random.randint(0, 1000000) for i in range(N_sims)]\n",
    "\n",
    "# er_sims = pf.Bernoulli_SIR_MC_Simulations(N_pop, p_ER, p_I0, er_seeds, Nt, 100)\n",
    "# qr_sims = pf.Bernoulli_SIR_MC_Simulations(N_pop, p_ER, p_I0, qr_seeds, Nt, 100)\n",
    "# er_X_list = [np.array([x[0], x[1], x[2]]) for x in er_sims]\n",
    "# qr_X_list = [np.array([x[0], x[1], x[2]]) for x in qr_sims]\n",
    "graph_seed = 777\n",
    "G_structure = pf.generate_SIR_ER_graph(N_pop, p_ER, graph_seed)\n",
    "G = pf.generate_Bernoulli_SIR_Network(G_structure, p_I0, graph_seed, 0)\n"
   ]
  },
  {
   "cell_type": "code",
   "execution_count": 8,
   "metadata": {},
   "outputs": [],
   "source": [
    "G.reset()\n",
    "G.initialize()\n",
    "p_gen = pf.MC_SIR_Params()\n",
    "er_param = pf.Regressor_Param()\n",
    "\n",
    "er_regressor = pf.ERR_Regressor(er_param)\n",
    "\n",
    "\n",
    "er_seeds = [random.randint(0, 1000000) for i in range(N_sims)]\n",
    "\n",
    "# for t in range(Nt):\n",
    "MC_trajectories = pf.MC_SIR_simulations(G_structure, p_gen, er_seeds, Nt)\n",
    "    \n"
   ]
  },
  {
   "cell_type": "code",
   "execution_count": 12,
   "metadata": {},
   "outputs": [
    {
     "data": {
      "text/plain": [
       "0.009377368725836277"
      ]
     },
     "execution_count": 12,
     "metadata": {},
     "output_type": "execute_result"
    }
   ],
   "source": []
  },
  {
   "cell_type": "markdown",
   "metadata": {},
   "source": []
  }
 ],
 "metadata": {
  "kernelspec": {
   "display_name": "Python 3.10.7 ('Default')",
   "language": "python",
   "name": "python3"
  },
  "language_info": {
   "codemirror_mode": {
    "name": "ipython",
    "version": 3
   },
   "file_extension": ".py",
   "mimetype": "text/x-python",
   "name": "python",
   "nbconvert_exporter": "python",
   "pygments_lexer": "ipython3",
   "version": "3.10.7"
  },
  "orig_nbformat": 4,
  "vscode": {
   "interpreter": {
    "hash": "bb56dc89e29e58cd5d1070b976d9a8dbd1f41fb86c40d81c6b7441c976d6d680"
   }
  }
 },
 "nbformat": 4,
 "nbformat_minor": 2
}
