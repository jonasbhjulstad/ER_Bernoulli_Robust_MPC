{
 "cells": [
  {
   "cell_type": "code",
   "execution_count": 13,
   "metadata": {
    "pycharm": {
     "name": "#%%\n"
    }
   },
   "outputs": [],
   "source": [
    "import numpy as np\n",
    "import matplotlib.pyplot as plt\n",
    "import networkx as nx\n",
    "import ndlib.models.epidemics as ep\n",
    "import ndlib.models.ModelConfig as mc\n",
    "from ndlib.utils import multi_runs\n",
    "from aesara import tensor as at\n",
    "from bokeh.io import output_notebook, show\n",
    "# from ndlib.viz.bokeh.DiffusionTrend import DiffusionTrend\n",
    "from ndlib.viz.mpl.TrendComparison import DiffusionTrendComparison\n",
    "import pysindy as ps\n",
    "from pydmd import DMD\n",
    "import glob\n",
    "import pandas as pd\n",
    "\n",
    "CPP_Data_Dir = \"/home/arch/Documents/Bernoulli_Network_Optimal_Control/Cpp/data/\"\n",
    "CPP_Figure_Dir = \"/home/arch/Documents/Bernoulli_Network_Optimal_Control/Cpp/figures/\"\n",
    "\n",
    "def load_SIR_trajectories():\n",
    "    trajs = glob.glob(CPP_Data_Dir + \"*.csv\")\n",
    "    dfs = [pd.read_csv(traj) for traj in trajs[::100] if \"Quantile\" not in traj]\n",
    "    N_traj = len(dfs)\n",
    "    X = [df[['S', 'I', 'R']].to_numpy() for df in dfs]\n",
    "    U = [df['p_I'].to_numpy() for df in dfs]\n",
    "\n",
    "    return X, U\n",
    "\n",
    "def plot_separate(X, reg_model):\n",
    "    x_grouped = [X[:,i,:] for i in range(3)]\n",
    "    X_list = [x.T for x in X]\n",
    "    fig, ax = plt.subplots(3,2)\n",
    "    t = np.linspace(0,1,x_grouped[0].shape[1])\n",
    "    sim = reg_model.simulate(x0=X_list[0][0,:], t=np.linspace(0,1, len(t)))\n",
    "\n",
    "    for ci in np.arange(95, 10, -5):\n",
    "        for (i, x) in enumerate(x_grouped):\n",
    "            low = np.percentile(x, 50 - ci / 2, axis=0)\n",
    "            high = np.percentile(x, 50 + ci / 2, axis=0)\n",
    "            ax[i,0].fill_between(t, low, high, color='gray', alpha= np.exp(-.01*ci))\n",
    "\n",
    "    ax[0,0].set_title(\"Susceptible\")\n",
    "    ax[1,0].set_title(\"Infected\")\n",
    "    ax[2,0].set_title(\"Recovered\")\n",
    "    _ = [x.grid() for x in ax[:,0]]\n",
    "    _ = [x.tick_params(axis='x', which='both', bottom=False, top=False, labelbottom=False) for x in ax[:,0]]\n",
    "    _ = [x.tick_params(axis='y', which='both', bottom=False, top=False, labelbottom=False) for x in ax[:,0]]\n",
    "    \n",
    "    for i in range(N_sim):\n",
    "        x0 = X_list[i][0,:]\n",
    "        sim = reg_model.simulate(x0=x0, t=np.linspace(0,1, len(t)))\n",
    "        ax[0,1].plot(t,sim[:,0], color='k')\n",
    "        ax[1,1].plot(t, sim[:,1], color='k')\n",
    "        ax[2,1].plot(t, sim[:,2], color='k')\n",
    "\n",
    "    ax[0,1].set_title(\"Susceptible\")\n",
    "    ax[1,1].set_title(\"Infected\")\n",
    "    ax[2,1].set_title(\"Recovered\")\n",
    "    _ = [x.grid() for x in ax[:,1]]\n",
    "    _ = [x.tick_params(axis='x', which='both', bottom=False, top=False, labelbottom=False) for x in ax[:,1]]\n",
    "    _ = [x.tick_params(axis='y', which='both', bottom=False, top=False, labelbottom=False) for x in ax[:,1]]\n",
    "    \n",
    "def plot_merged(t, X, U, reg_model):\n",
    "    x_grouped = [np.concatenate([x[:,i][:, np.newaxis] for x in X], axis=1) for i in range(3)]\n",
    "    fig, ax = plt.subplots(4)\n",
    "    sim = reg_model.simulate(x0=X[0][0,:], u=U, t=np.linspace(0,1, len(t)))\n",
    "    print(x_grouped[0].shape)\n",
    "    for ci in np.arange(95, 10, -5):\n",
    "        for (i, x) in enumerate(x_grouped):\n",
    "            low = np.percentile(x, 50 - ci / 2, axis=1)\n",
    "            high = np.percentile(x, 50 + ci / 2, axis=1)\n",
    "            ax[i].fill_between(t, low, high, color='gray', alpha= np.exp(-.01*ci))\n",
    "\n",
    "    ax[0].set_title(\"Susceptible\")\n",
    "    ax[1].set_title(\"Infected\")\n",
    "    ax[2].set_title(\"Recovered\")\n",
    "    _ = [x.grid() for x in ax[:]]\n",
    "    _ = [x.tick_params(axis='x', which='both', bottom=False, top=False, labelbottom=False) for x in ax]\n",
    "    _ = [x.tick_params(axis='y', which='both', bottom=False, top=False, labelbottom=False) for x in ax]\n",
    "    \n",
    "    sim = reg_model.simulate(x0=X[0][0,:], u= U, t=np.linspace(0,1, U.shape[0]))\n",
    "    print(sim.shape)\n",
    "    ax[0].plot(t[:-1],sim[:,0], color='k')\n",
    "    ax[1].plot(t[:-1], sim[:,1], color='k')\n",
    "    ax[2].plot(t[:-1], sim[:,2], color='k')\n",
    "    ax[3].plot(t, U, color='k')\n",
    "    fig.subplots_adjust(hspace=.3)\n",
    "\n",
    "    return fig, ax\n",
    "\n",
    "\n"
   ]
  },
  {
   "cell_type": "code",
   "execution_count": 14,
   "metadata": {
    "pycharm": {
     "name": "#%%\n"
    }
   },
   "outputs": [],
   "source": [
    "X_data, U_data = load_SIR_trajectories()\n",
    "X_mat = np.stack(X_data, axis=2)\n"
   ]
  },
  {
   "cell_type": "code",
   "execution_count": 15,
   "metadata": {
    "pycharm": {
     "name": "#%%\n"
    }
   },
   "outputs": [
    {
     "name": "stdout",
     "output_type": "stream",
     "text": [
      "(x0)' = 1.585 x0 + -0.172 x0 x1 + -27.559 x0 u0\n",
      "(x1)' = -0.453 x2 + -302.385 u0 + 33.707 x0 u0\n",
      "(x2)' = 1.800 x1 + 0.029 x0 x2 + 2.063 x0 u0\n"
     ]
    }
   ],
   "source": [
    "U_mean = np.mean(U_data, axis=0)\n",
    "X_mean = np.mean(np.array(X_data), axis=0)\n",
    "\n",
    "Nt = X_data[0].shape[0]\n",
    "N_sim = len(X_data)\n",
    "# In[8]:\n",
    "\n",
    "\n",
    "t = [*list(range(Nt))]*N_sim\n",
    "\n",
    "# In[10]:\n",
    "\n",
    "\n",
    "# from Quantile_STLSQ import Quantile_STLSQ\n",
    "# from Quantile_FROLS import Quantile_FROLS\n",
    "# reg_model = ps.SINDy(Quantile_STLSQ(tau=.95, threshold=1e-6, alpha=1e-6))\n",
    "# reg_model = ps.SINDy(Quantile_FROLS(tau=.95, verbose=True, max_iter = 3))\n",
    "lowPolyLib = ps.PolynomialLibrary(degree=2, interaction_only=True)\n",
    "# reg_model = ps.SINDy(ps.STLSQ(threshold=5), feature_library=lowPolyLib)\n",
    "reg_model = ps.SINDy(ps.FROLS(max_iter=4), feature_library=lowPolyLib)\n",
    "reg_model.fit(X_data,u=U_data, t=np.linspace(0,1,Nt), multiple_trajectories=True)\n",
    "\n",
    "reg_model.print()\n",
    "\n"
   ]
  },
  {
   "cell_type": "code",
   "execution_count": 16,
   "metadata": {
    "pycharm": {
     "name": "#%%\n"
    }
   },
   "outputs": [],
   "source": [
    "from pysindy_casadi_converter import construct_mx_equations\n",
    "import casadi as cs\n",
    "Nx = 3\n",
    "Nu = 1\n",
    "xk = cs.MX.sym('X', Nx)\n",
    "uk = cs.MX.sym('U', Nu)\n",
    "eqs = cs.vertcat(*construct_mx_equations(xk, uk, reg_model))\n",
    "F = cs.Function('F', [xk, uk], [eqs])"
   ]
  },
  {
   "cell_type": "code",
   "execution_count": 17,
   "metadata": {
    "pycharm": {
     "name": "#%%\n"
    }
   },
   "outputs": [],
   "source": [
    "def RK4(f, x0, u, h):\n",
    "    k1 = h*f(x0, u)\n",
    "    k2 = h*f(x0 + k1/2, u)\n",
    "    k3 = h*f(x0 + k2/2, u)\n",
    "    k4 = h*f(x0 + k3, u)\n",
    "    return x0 + (k1 + 2*k2 + 2*k3 + k4)/6\n",
    "\n",
    "def N_RK4(f, x0, u, h, N):\n",
    "    xk = x0\n",
    "    for i in range(N):\n",
    "        xk = RK4(f, xk, u, h/N)\n",
    "    return xk"
   ]
  },
  {
   "cell_type": "code",
   "execution_count": 18,
   "metadata": {
    "pycharm": {
     "name": "#%%\n"
    }
   },
   "outputs": [],
   "source": [
    "dt = .01\n",
    "# F_integrator = cs.Function('F_integrator', [xk, uk], [xk_1])\n",
    "xk_1 = N_RK4(F, xk, uk, dt, 2)\n",
    "F_integrator = cs.Function('F_integrator', [xk, uk], [xk_1])"
   ]
  },
  {
   "cell_type": "code",
   "execution_count": 19,
   "metadata": {
    "pycharm": {
     "name": "#%%\n"
    }
   },
   "outputs": [],
   "source": [
    "X = cs.MX.sym('X', Nx, Nt)\n",
    "U = cs.MX.sym('U', Nu, Nt)\n",
    "U0 = U_mean\n",
    "\n",
    "g = []\n",
    "N_pop = 60\n",
    "I0 = .1*N_pop\n",
    "u_max = .1\n",
    "u_min = 0.000001\n",
    "obj = 0\n",
    "I_max = N_pop-25\n",
    "\n",
    "gx = []\n",
    "Wu = 1000\n",
    "for i in range(Nt):\n",
    "    if (i == 0):\n",
    "        g.append(X[:,i] - X_mean[0,:])\n",
    "    gx.append(X[:,i] - F_integrator(X[:,i-1], U[i]))\n",
    "    obj += Wu*cs.norm_2(u_max - U[i])\n",
    "gx = cs.vertcat(*gx)\n",
    "\n",
    "g = gx"
   ]
  },
  {
   "cell_type": "code",
   "execution_count": 19,
   "metadata": {
    "pycharm": {
     "name": "#%%\n"
    }
   },
   "outputs": [],
   "source": []
  },
  {
   "cell_type": "code",
   "execution_count": 20,
   "metadata": {
    "pycharm": {
     "name": "#%%\n"
    }
   },
   "outputs": [],
   "source": [
    "X0 = cs.DM(3, Nt)\n",
    "X0[:,0] = X_mean[0,:]\n",
    "U0 = cs.DM.ones(Nt)*u_min\n",
    "for i in range(Nt-1):\n",
    "    X0[:,i+1] = F_integrator(X0[:,i], u_min)"
   ]
  },
  {
   "cell_type": "code",
   "execution_count": 21,
   "metadata": {
    "pycharm": {
     "name": "#%%\n"
    }
   },
   "outputs": [
    {
     "data": {
      "text/plain": "[<matplotlib.lines.Line2D at 0x7f15b30cdc60>,\n <matplotlib.lines.Line2D at 0x7f15b30cd9f0>,\n <matplotlib.lines.Line2D at 0x7f15b30cd150>]"
     },
     "execution_count": 21,
     "metadata": {},
     "output_type": "execute_result"
    },
    {
     "data": {
      "text/plain": "<Figure size 432x288 with 1 Axes>",
      "image/png": "[encoded data removed]"
     },
     "metadata": {
      "needs_background": "light"
     },
     "output_type": "display_data"
    }
   ],
   "source": [
    "plt.plot(X0.full().T)"
   ]
  },
  {
   "cell_type": "code",
   "execution_count": 22,
   "metadata": {
    "pycharm": {
     "name": "#%%\n"
    }
   },
   "outputs": [
    {
     "name": "stdout",
     "output_type": "stream",
     "text": [
      "This is Ipopt version 3.14.4, running with linear solver MUMPS 5.4.1.\n",
      "\n",
      "Number of nonzeros in equality constraint Jacobian...:      300\n",
      "Number of nonzeros in inequality constraint Jacobian.:        0\n",
      "Number of nonzeros in Lagrangian Hessian.............:      200\n",
      "\n",
      "Total number of variables............................:       80\n",
      "                     variables with only lower bounds:        0\n",
      "                variables with lower and upper bounds:       80\n",
      "                     variables with only upper bounds:        0\n",
      "Total number of equality constraints.................:       60\n",
      "Total number of inequality constraints...............:        0\n",
      "        inequality constraints with only lower bounds:        0\n",
      "   inequality constraints with lower and upper bounds:        0\n",
      "        inequality constraints with only upper bounds:        0\n",
      "\n",
      "iter    objective    inf_pr   inf_du lg(mu)  ||d||  lg(rg) alpha_du alpha_pr  ls\n",
      "   0  1.9799804e+03 3.36e+00 1.95e-01  -1.0 0.00e+00    -  0.00e+00 0.00e+00   0\n",
      "   1  1.9800588e+03 3.36e+00 1.28e+01  -1.0 1.03e+02    -  1.48e-02 1.08e-03h  1\n",
      "   2  1.9792150e+03 3.33e+00 2.63e+02  -1.0 1.91e+02    -  1.24e-01 6.54e-03h  1\n",
      "   3  1.9536729e+03 2.78e+00 2.28e+03  -1.0 1.82e+02    -  1.35e-01 1.68e-01h  1\n",
      "   4  1.9581215e+03 2.62e+00 2.16e+03  -1.0 7.76e+00    -  1.25e-01 5.70e-02h  1\n",
      "   5  1.9582360e+03 2.60e+00 2.13e+03  -1.0 9.00e+00    -  8.09e-04 6.26e-03h  1\n",
      "   6  1.9582537e+03 2.59e+00 2.14e+03  -1.0 9.41e+00    -  2.61e-02 3.82e-03h  1\n",
      "   7  1.9582882e+03 2.58e+00 2.12e+03  -1.0 8.50e+00    -  1.96e-03 5.51e-03h  1\n",
      "   8  1.9583087e+03 2.57e+00 2.13e+03  -1.0 8.68e+00    -  6.39e-03 3.18e-03h  1\n",
      "   9  1.9583444e+03 2.56e+00 2.11e+03  -1.0 8.44e+00    -  6.37e-04 5.39e-03h  1\n",
      "iter    objective    inf_pr   inf_du lg(mu)  ||d||  lg(rg) alpha_du alpha_pr  ls\n",
      "  10  1.9583451e+03 2.56e+00 2.41e+03  -1.0 8.38e+00    -  3.30e-02 1.02e-04h  1\n",
      "  11  1.9583802e+03 2.54e+00 1.00e+04  -1.0 8.59e+00    -  1.13e-01 4.75e-03h  1\n",
      "  12  1.9583917e+03 2.54e+00 4.24e+06  -1.0 8.61e+00    -  7.60e-01 1.48e-03h  1\n",
      "  13  1.9583908e+03 2.54e+00 3.92e+09  -1.0 8.58e+00    -  5.19e-02 5.52e-05h  1\n",
      "  14r 1.9583908e+03 2.54e+00 1.00e+03   0.4 0.00e+00    -  0.00e+00 4.85e-07R  2\n",
      "  15r 1.9751394e+03 1.46e+00 1.02e+03   0.4 8.30e+01    -  1.04e-01 3.61e-02f  1\n",
      "  16  1.9751556e+03 1.46e+00 2.51e+02  -1.0 6.19e+00    -  7.64e-02 4.47e-04h  1\n",
      "  17  1.9751693e+03 1.46e+00 4.27e+03  -1.0 5.83e+00    -  2.32e-02 1.48e-03h  1\n",
      "  18  1.9751690e+03 1.46e+00 3.92e+05  -1.0 6.80e+00    -  1.75e-02 2.01e-04h  1\n",
      "  19r 1.9751690e+03 1.46e+00 9.99e+02   0.2 0.00e+00    -  0.00e+00 2.87e-07R  5\n",
      "iter    objective    inf_pr   inf_du lg(mu)  ||d||  lg(rg) alpha_du alpha_pr  ls\n",
      "  20r 1.9991052e+03 1.15e+00 9.73e+02   0.2 4.19e+01    -  4.29e-01 2.15e-02f  1\n",
      "  21  1.9991083e+03 1.15e+00 1.34e+03  -1.0 3.97e+00    -  2.46e-01 4.40e-04h  1\n",
      "  22  1.9991073e+03 1.15e+00 9.94e+03  -1.0 4.04e+00    -  8.23e-04 1.12e-04h  1\n",
      "  23  1.9991008e+03 1.15e+00 2.82e+02  -1.0 4.48e+00    -  1.09e-04 7.91e-04h  1\n",
      "  24  1.9991001e+03 1.15e+00 1.24e+05  -1.0 5.01e+00    -  7.15e-04 6.71e-05h  1\n",
      "  25r 1.9991001e+03 1.15e+00 9.99e+02   0.1 0.00e+00    -  0.00e+00 2.57e-07R  3\n",
      "  26r 1.9959981e+03 4.33e-01 1.09e+03   0.1 3.34e+01    -  4.94e-01 5.95e-02f  1\n",
      "  27  1.9960217e+03 4.32e-01 1.45e+02  -1.0 2.96e+00    -  8.56e-02 2.20e-03f  1\n",
      "  28  1.9962194e+03 4.16e-01 1.28e+03  -1.0 1.32e+00    -  2.46e-01 3.65e-02h  1\n",
      "  29  1.9961883e+03 4.15e-01 1.61e+04  -1.0 1.34e+00    -  1.22e-02 1.27e-03h  1\n",
      "iter    objective    inf_pr   inf_du lg(mu)  ||d||  lg(rg) alpha_du alpha_pr  ls\n",
      "  30  1.9961820e+03 4.13e-01 1.53e+04  -1.0 1.44e+00    -  3.86e-03 4.82e-03h  1\n",
      "  31  1.9962975e+03 4.05e-01 8.34e+05  -1.0 1.45e+00    -  8.33e-01 2.12e-02h  1\n",
      "  32  1.9962680e+03 4.04e-01 1.91e+07  -1.0 1.38e+00    -  2.69e-02 1.18e-03h  1\n",
      "  33  1.9962678e+03 4.04e-01 1.61e+10  -1.0 1.42e+00    -  4.15e-02 5.09e-05h  1\n",
      "  34  1.9962679e+03 4.04e-01 8.89e+14  -1.0 1.24e+00    -  9.87e-01 1.77e-05h  1\n",
      "  35  1.9999135e+03 4.16e-03 1.13e+13  -1.0 1.24e+00    -  1.00e+00 9.90e-01h  1\n",
      "  36  1.9999408e+03 2.85e-03 1.01e+15  -1.0 1.27e-02    -  9.66e-01 3.15e-01h  1\n",
      "In iteration 36, 1 Slack too small, adjusting variable bound\n",
      "  37  1.9999420e+03 2.79e-03 3.95e+14  -1.0 8.69e-03    -  7.18e-03 2.00e-02h  1\n",
      "  38  1.9999420e+03 2.79e-03 7.61e+12  -1.0 1.00e-03  16.0 1.00e+00 4.40e-05h  1\n",
      "In iteration 38, 1 Slack too small, adjusting variable bound\n",
      "  39  1.9999735e+03 1.28e-03 1.39e+15  -1.7 8.52e-03    -  9.73e-01 5.43e-01h  1\n",
      "In iteration 39, 1 Slack too small, adjusting variable bound\n",
      "iter    objective    inf_pr   inf_du lg(mu)  ||d||  lg(rg) alpha_du alpha_pr  ls\n",
      "  40  1.9999801e+03 9.57e-04 6.77e+14  -1.7 3.90e-03    -  2.22e-01 2.51e-01h  1\n",
      "In iteration 40, 1 Slack too small, adjusting variable bound\n",
      "  41  1.9999802e+03 9.57e-04 2.81e+12  -1.7 1.35e-04  16.4 1.00e+00 2.80e-04h  1\n",
      "  42  1.9999802e+03 9.57e-04 1.93e+12  -2.5 5.66e-04  15.9 1.00e+00 6.89e-05h  1\n",
      "  43  1.9999802e+03 9.57e-04 4.72e+12  -2.5 6.52e-04  15.5 1.00e+00 8.13e-03h  1\n",
      "  44  1.9999802e+03 9.57e-04 1.43e+13  -2.5 1.96e-03  15.0 1.00e+00 2.87e-03h  1\n",
      "  45  1.9999802e+03 9.57e-04 4.35e+13  -2.5 5.98e-03  14.5 1.00e+00 3.12e-03h  1\n",
      "  46  1.9999802e+03 9.55e-04 7.62e+15  -2.5 2.95e-03    -  1.06e-03 1.99e-03h  1\n",
      "  47  1.9999802e+03 9.55e-04 7.60e+15  -2.5 1.81e-02  14.0 3.19e-03 1.98e-03h  1\n",
      "  48  1.9999802e+03 9.55e-04 7.60e+15  -2.5 4.75e-03  14.5 9.05e-06 1.11e-03h  1\n",
      "  49r 1.9999802e+03 9.55e-04 1.00e+03  -2.5 0.00e+00    -  0.00e+00 2.67e-07R  3\n",
      "iter    objective    inf_pr   inf_du lg(mu)  ||d||  lg(rg) alpha_du alpha_pr  ls\n",
      "  50r 1.9999745e+03 1.99e-04 1.18e+03  -2.5 2.14e-02    -  3.61e-01 1.01e-01f  1\n",
      "  51  1.9999780e+03 1.92e-04 9.71e+03  -2.5 2.75e-03    -  9.97e-01 3.27e-02h  1\n",
      "  52  1.9999795e+03 1.59e-04 5.53e+04  -2.5 7.67e-04    -  1.00e+00 1.70e-01h  1\n",
      "  53  1.9999802e+03 1.55e-04 2.07e+06  -2.5 6.24e-04    -  1.00e+00 3.01e-02h  1\n",
      "  54  1.9999802e+03 1.54e-04 8.80e+08  -2.5 6.09e-04    -  1.00e+00 2.43e-03h  1\n",
      "  55r 1.9999802e+03 1.54e-04 1.00e+03  -2.5 0.00e+00    -  0.00e+00 4.79e-07R  5\n",
      "  56r 1.9999583e+03 1.21e-04 7.13e+02  -2.5 1.46e-04    -  4.42e-01 3.87e-01f  1\n",
      "  57  1.9999668e+03 1.13e-04 2.50e+03  -2.5 2.78e-03    -  9.97e-01 6.83e-02f  2\n",
      "  58  1.9999786e+03 7.20e-05 6.61e+03  -2.5 5.19e-04    -  1.00e+00 3.63e-01h  1\n",
      "  59  1.9999794e+03 6.00e-05 5.13e+04  -2.5 7.33e-04    -  1.00e+00 1.66e-01h  1\n",
      "iter    objective    inf_pr   inf_du lg(mu)  ||d||  lg(rg) alpha_du alpha_pr  ls\n",
      "  60  1.9999796e+03 5.93e-05 1.59e+06  -2.5 2.74e-04    -  1.00e+00 1.22e-02h  1\n",
      "  61  1.9999802e+03 5.76e-05 5.43e+07  -2.5 2.71e-04    -  1.00e+00 2.90e-02h  1\n",
      "  62  1.9999802e+03 5.75e-05 6.15e+11  -2.5 2.64e-04    -  1.00e+00 9.04e-05h  1\n",
      "  63  1.9999802e+03 8.07e-06 1.68e+09  -2.5 1.04e-04    -  9.97e-01 1.00e+00h  1\n",
      "  64r 1.9999802e+03 8.07e-06 1.00e+03  -2.5 0.00e+00    -  0.00e+00 3.36e-07R  2\n",
      "  65r 1.9999236e+03 1.28e-05 1.59e+03  -2.5 5.64e-05    -  4.53e-01 1.00e+00f  1\n",
      "  66r 1.9999344e+03 1.06e-05 9.95e+02  -2.5 3.84e-05    -  3.35e-01 3.70e-01f  1\n",
      "  67r 1.9999525e+03 7.60e-06 2.84e+02  -2.5 3.29e-05    -  5.08e-01 1.00e+00f  1\n",
      "  68r 1.9999530e+03 7.60e-06 8.55e+01  -2.5 5.35e-05    -  7.40e-01 1.00e+00f  1\n",
      "  69r 1.9999537e+03 8.11e-06 1.90e+02  -2.5 1.43e-04    -  5.36e-01 1.00e+00f  1\n",
      "iter    objective    inf_pr   inf_du lg(mu)  ||d||  lg(rg) alpha_du alpha_pr  ls\n",
      "  70r 1.9999545e+03 8.90e-06 3.26e+01  -2.5 2.06e-04    -  9.06e-01 1.00e+00f  1\n",
      "  71r 1.9999556e+03 1.02e-05 1.69e+01  -2.5 3.32e-04    -  8.70e-01 1.00e+00f  1\n",
      "  72r 1.9999556e+03 1.04e-05 4.39e-05  -2.5 4.50e-05    -  1.00e+00 1.00e+00f  1\n",
      "  73r 1.9999802e+03 2.99e-06 8.63e+00  -5.7 8.72e-04    -  1.00e+00 9.41e-01f  1\n",
      "  74  1.9999802e+03 2.99e-06 1.16e+09  -2.5 1.18e-01    -  9.95e-01 2.93e-07f  2\n",
      "  75  1.9999802e+03 2.99e-06 1.08e+13  -2.5 3.26e-04    -  1.00e+00 1.06e-04h  1\n",
      "  76r 1.9999802e+03 2.99e-06 1.00e+03  -2.5 0.00e+00    -  0.00e+00 2.51e-07R  2\n",
      "  77r 1.9999236e+03 1.16e-05 9.66e+02  -2.5 9.08e-06    -  6.63e-01 1.00e+00f  1\n",
      "  78r 1.9999494e+03 7.77e-06 1.84e-01  -2.5 2.63e-05    -  1.00e+00 1.00e+00f  1\n",
      "  79r 1.9999535e+03 9.81e-06 7.00e+02  -2.5 7.78e-04    -  2.77e-01 7.22e-01f  1\n",
      "iter    objective    inf_pr   inf_du lg(mu)  ||d||  lg(rg) alpha_du alpha_pr  ls\n",
      "  80r 1.9999556e+03 1.05e-05 2.77e-02  -2.5 2.45e-04    -  1.00e+00 1.00e+00f  1\n",
      "  81r 1.9999802e+03 3.02e-06 1.04e+00  -3.8 8.22e-04    -  1.00e+00 9.92e-01f  1\n",
      "  82r 1.9999790e+03 3.60e-06 5.18e+02  -3.8 4.19e-05    -  5.35e-02 1.00e+00f  1\n",
      "  83r 1.9999792e+03 3.45e-06 7.55e-07  -3.8 8.16e-06    -  1.00e+00 1.00e+00f  1\n",
      "  84r 1.9999802e+03 3.05e-06 4.12e+00  -5.7 3.54e-05    -  1.00e+00 9.67e-01f  1\n",
      "  85r 1.9999802e+03 3.06e-06 7.11e+01  -5.7 5.29e-07    -  8.84e-01 1.00e+00f  1\n",
      "  86r 1.9999802e+03 3.49e-06 1.95e-08  -5.7 1.71e-06    -  1.00e+00 1.00e+00f  1\n",
      "  87r 1.9999802e+03 3.45e-06 7.21e+00  -8.6 3.82e-07    -  9.43e-01 8.42e-01f  1\n",
      "  88r 1.9999802e+03 3.33e-06 2.50e+01  -8.6 1.78e-06    -  4.23e-01 8.16e-01f  1\n",
      "  89r 1.9999802e+03 3.14e-06 6.25e+01  -8.6 4.18e-07    -  7.91e-01 5.96e-01f  1\n",
      "iter    objective    inf_pr   inf_du lg(mu)  ||d||  lg(rg) alpha_du alpha_pr  ls\n",
      "  90r 1.9999802e+03 3.02e-06 1.45e-01  -8.6 2.24e-07    -  9.29e-01 9.42e-01f  1\n",
      "\n",
      "Number of Iterations....: 90\n",
      "\n",
      "                                   (scaled)                 (unscaled)\n",
      "Objective...............:   1.9999801999834256e+02    1.9999801999834256e+03\n",
      "Dual infeasibility......:   1.0000000000146522e+02    1.0000000000146522e+03\n",
      "Constraint violation....:   2.9942556717442812e-06    2.9942556717442812e-06\n",
      "Variable bound violation:   9.9991712925280898e-09    9.9991712925280898e-09\n",
      "Complementarity.........:   2.5909005324920833e-09    2.5909005324920832e-08\n",
      "Overall NLP error.......:   2.7180305327579990e+01    1.0000000000146522e+03\n",
      "\n",
      "\n",
      "Number of objective function evaluations             = 116\n",
      "Number of objective gradient evaluations             = 70\n",
      "Number of equality constraint evaluations            = 116\n",
      "Number of inequality constraint evaluations          = 0\n",
      "Number of equality constraint Jacobian evaluations   = 99\n",
      "Number of inequality constraint Jacobian evaluations = 0\n",
      "Number of Lagrangian Hessian evaluations             = 91\n",
      "Total seconds in IPOPT                               = 0.717\n",
      "\n",
      "EXIT: Converged to a point of local infeasibility. Problem may be infeasible.\n",
      "      solver  :   t_proc      (avg)   t_wall      (avg)    n_eval\n",
      "       nlp_f  |   2.19ms ( 18.91us)   2.17ms ( 18.73us)       116\n",
      "       nlp_g  |  35.95ms (309.95us)  38.07ms (328.21us)       116\n",
      "  nlp_grad_f  |   1.94ms ( 27.35us)   1.91ms ( 26.96us)        71\n",
      "  nlp_hess_l  | 292.77ms (  3.49ms) 312.86ms (  3.72ms)        84\n",
      "   nlp_jac_g  | 181.23ms (  1.81ms) 199.59ms (  2.00ms)       100\n",
      "       total  | 667.17ms (667.17ms) 717.73ms (717.73ms)         1\n"
     ]
    }
   ],
   "source": [
    "\n",
    "W = cs.vertcat(X.reshape((-1,1)), U.T)\n",
    "W0 = cs.vertcat(X0.reshape((-1,1)), U0)\n",
    "# prob = {'f': obj, 'x': W, 'g': g}\n",
    "# solver = cs.nlpsol('solver', 'ipopt', prob)\n",
    "lbw = [0]*Nx*Nt, [u_min]*Nt\n",
    "lbw = cs.vertcat(*lbw)\n",
    "ubx = cs.DM.ones(Nx*Nt)*N_pop\n",
    "for i in range(Nt):\n",
    "    ubx[1+3*i] = I_max\n",
    "ubw = cs.vertcat(ubx, cs.DM.ones(Nt)*u_max)\n",
    "Ng = g.shape[0]\n",
    "lbg = cs.DM.zeros(Ng)\n",
    "ubg = cs.DM.zeros(gx.shape[0])\n",
    "# sol = solver(x0=cs.vertcat(X0[:], U_mean), lbx = lbw, ubx = ubw, lbg = lbg, ubg=ubg)\n",
    "prob = {'f': obj, 'x': W, 'g': g}\n",
    "solver = cs.nlpsol('solver', 'ipopt', prob)\n",
    "sol = solver(x0=W0, lbx = lbw, ubx = ubw, lbg = lbg, ubg=ubg)\n"
   ]
  },
  {
   "cell_type": "code",
   "execution_count": 23,
   "metadata": {
    "pycharm": {
     "name": "#%%\n"
    }
   },
   "outputs": [
    {
     "data": {
      "text/plain": "<matplotlib.legend.Legend at 0x7f15b361be50>"
     },
     "execution_count": 23,
     "metadata": {},
     "output_type": "execute_result"
    },
    {
     "data": {
      "text/plain": "<Figure size 432x288 with 3 Axes>",
      "image/png": "[encoded data removed]"
     },
     "metadata": {
      "needs_background": "light"
     },
     "output_type": "display_data"
    }
   ],
   "source": [
    "fig, ax = plt.subplots(3)\n",
    "X_sol = sol['x'][:-Nt].reshape((Nx, Nt))\n",
    "for i in range(Nx):\n",
    "    ax[i].plot(X_mean[:,i], color='gray', label='Mean')\n",
    "    ax[i].plot(X_sol.full()[i,:].T, color='gray', linestyle='dashed', label='Quantile Model')\n",
    "ax[0].legend()"
   ]
  },
  {
   "cell_type": "code",
   "execution_count": 26,
   "metadata": {
    "pycharm": {
     "name": "#%%\n"
    }
   },
   "outputs": [
    {
     "ename": "TypeError",
     "evalue": "object of type 'SINDy' has no len()",
     "output_type": "error",
     "traceback": [
      "\u001B[0;31m---------------------------------------------------------------------------\u001B[0m",
      "\u001B[0;31mTypeError\u001B[0m                                 Traceback (most recent call last)",
      "Input \u001B[0;32mIn [26]\u001B[0m, in \u001B[0;36m<cell line: 1>\u001B[0;34m()\u001B[0m\n\u001B[0;32m----> 1\u001B[0m fig, ax \u001B[38;5;241m=\u001B[39m \u001B[43mplot_merged\u001B[49m\u001B[43m(\u001B[49m\u001B[43mreg_model\u001B[49m\u001B[43m,\u001B[49m\u001B[43m \u001B[49m\u001B[43mX_data\u001B[49m\u001B[43m,\u001B[49m\u001B[43m \u001B[49m\u001B[43mU_mean\u001B[49m\u001B[43m,\u001B[49m\u001B[43m \u001B[49m\u001B[43mreg_model\u001B[49m\u001B[43m)\u001B[49m\n\u001B[1;32m      3\u001B[0m fig\n\u001B[1;32m      4\u001B[0m fig\u001B[38;5;241m.\u001B[39msavefig(CPP_Figure_Dir \u001B[38;5;241m+\u001B[39m \u001B[38;5;124m'\u001B[39m\u001B[38;5;124mSIR_merged.png\u001B[39m\u001B[38;5;124m'\u001B[39m, bbox_inches\u001B[38;5;241m=\u001B[39m\u001B[38;5;124m'\u001B[39m\u001B[38;5;124mtight\u001B[39m\u001B[38;5;124m'\u001B[39m)\n",
      "Input \u001B[0;32mIn [13]\u001B[0m, in \u001B[0;36mplot_merged\u001B[0;34m(t, X, U, reg_model)\u001B[0m\n\u001B[1;32m     63\u001B[0m x_grouped \u001B[38;5;241m=\u001B[39m [np\u001B[38;5;241m.\u001B[39mconcatenate([x[:,i][:, np\u001B[38;5;241m.\u001B[39mnewaxis] \u001B[38;5;28;01mfor\u001B[39;00m x \u001B[38;5;129;01min\u001B[39;00m X], axis\u001B[38;5;241m=\u001B[39m\u001B[38;5;241m1\u001B[39m) \u001B[38;5;28;01mfor\u001B[39;00m i \u001B[38;5;129;01min\u001B[39;00m \u001B[38;5;28mrange\u001B[39m(\u001B[38;5;241m3\u001B[39m)]\n\u001B[1;32m     64\u001B[0m fig, ax \u001B[38;5;241m=\u001B[39m plt\u001B[38;5;241m.\u001B[39msubplots(\u001B[38;5;241m4\u001B[39m)\n\u001B[0;32m---> 65\u001B[0m sim \u001B[38;5;241m=\u001B[39m reg_model\u001B[38;5;241m.\u001B[39msimulate(x0\u001B[38;5;241m=\u001B[39mX[\u001B[38;5;241m0\u001B[39m][\u001B[38;5;241m0\u001B[39m,:], u\u001B[38;5;241m=\u001B[39mU, t\u001B[38;5;241m=\u001B[39mnp\u001B[38;5;241m.\u001B[39mlinspace(\u001B[38;5;241m0\u001B[39m,\u001B[38;5;241m1\u001B[39m, \u001B[38;5;28;43mlen\u001B[39;49m\u001B[43m(\u001B[49m\u001B[43mt\u001B[49m\u001B[43m)\u001B[49m))\n\u001B[1;32m     66\u001B[0m \u001B[38;5;28mprint\u001B[39m(x_grouped[\u001B[38;5;241m0\u001B[39m]\u001B[38;5;241m.\u001B[39mshape)\n\u001B[1;32m     67\u001B[0m \u001B[38;5;28;01mfor\u001B[39;00m ci \u001B[38;5;129;01min\u001B[39;00m np\u001B[38;5;241m.\u001B[39marange(\u001B[38;5;241m95\u001B[39m, \u001B[38;5;241m10\u001B[39m, \u001B[38;5;241m-\u001B[39m\u001B[38;5;241m5\u001B[39m):\n",
      "\u001B[0;31mTypeError\u001B[0m: object of type 'SINDy' has no len()"
     ]
    },
    {
     "data": {
      "text/plain": "<Figure size 432x288 with 4 Axes>",
      "image/png": "[encoded data removed]"
     },
     "metadata": {
      "needs_background": "light"
     },
     "output_type": "display_data"
    }
   ],
   "source": [
    "fig, ax = plot_merged(reg_model, X_data, U_mean, reg_model)\n",
    "\n",
    "fig\n",
    "fig.savefig(CPP_Figure_Dir + 'SIR_merged.png', bbox_inches='tight')\n",
    "fig.show()"
   ]
  },
  {
   "cell_type": "code",
   "execution_count": 25,
   "metadata": {
    "pycharm": {
     "name": "#%%\n"
    }
   },
   "outputs": [
    {
     "name": "stderr",
     "output_type": "stream",
     "text": [
      "/home/arch/Env/Default/lib/python3.10/site-packages/pysindy/pysindy.py:1194: UserWarning: Last time point dropped in simulation because interpolation of control input was used. To avoid this, pass in a callable for u.\n",
      "  warnings.warn(\n",
      "/home/arch/Env/Default/lib/python3.10/site-packages/pysindy/pysindy.py:1194: UserWarning: Last time point dropped in simulation because interpolation of control input was used. To avoid this, pass in a callable for u.\n",
      "  warnings.warn(\n"
     ]
    },
    {
     "name": "stdout",
     "output_type": "stream",
     "text": [
      "(20, 401)\n",
      "(19, 3)\n"
     ]
    },
    {
     "data": {
      "text/plain": "[<matplotlib.lines.Line2D at 0x7f15ab9185b0>]"
     },
     "execution_count": 25,
     "metadata": {},
     "output_type": "execute_result"
    },
    {
     "data": {
      "text/plain": "<Figure size 432x288 with 4 Axes>",
      "image/png": "[encoded data removed]"
     },
     "metadata": {
      "needs_background": "light"
     },
     "output_type": "display_data"
    }
   ],
   "source": [
    "fig, ax = plot_merged(t[:Nt], X_data, sol['x'][-Nt:].full(), reg_model)\n",
    "ax[1].plot(t[:Nt], [I_max]*Nt, color='gray', linestyle='dashed')"
   ]
  },
  {
   "cell_type": "code",
   "execution_count": null,
   "metadata": {
    "pycharm": {
     "name": "#%%\n"
    }
   },
   "outputs": [],
   "source": [
    "t[:Nt]"
   ]
  }
 ],
 "metadata": {
  "kernelspec": {
   "display_name": "Python 3.10.5 ('Default')",
   "language": "python",
   "name": "python3"
  },
  "language_info": {
   "codemirror_mode": {
    "name": "ipython",
    "version": 3
   },
   "file_extension": ".py",
   "mimetype": "text/x-python",
   "name": "python",
   "nbconvert_exporter": "python",
   "pygments_lexer": "ipython3",
   "version": "3.10.6"
  },
  "orig_nbformat": 4,
  "vscode": {
   "interpreter": {
    "hash": "95313a7be8ede263c18f783d64ae8a5700a2c5efb3a48a28682de2dd828335b5"
   }
  }
 },
 "nbformat": 4,
 "nbformat_minor": 2
}