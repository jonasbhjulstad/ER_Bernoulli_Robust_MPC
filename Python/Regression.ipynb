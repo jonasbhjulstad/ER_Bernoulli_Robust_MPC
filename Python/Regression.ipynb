{
 "cells": [
  {
   "cell_type": "code",
   "execution_count": 2,
   "metadata": {},
   "outputs": [],
   "source": [
    "import numpy as np\n",
    "import matplotlib.pyplot as plt\n",
    "import networkx as nx\n",
    "import ndlib.models.epidemics as ep\n",
    "import ndlib.models.ModelConfig as mc\n",
    "from ndlib.utils import multi_runs\n",
    "from aesara import tensor as at\n",
    "from bokeh.io import output_notebook, show\n",
    "# from ndlib.viz.bokeh.DiffusionTrend import DiffusionTrend\n",
    "from ndlib.viz.mpl.TrendComparison import DiffusionTrendComparison\n",
    "import pysindy as ps\n",
    "from pydmd import DMD\n",
    "from ParameterConfig import DATA_DIR, FIGURE_DIR, ROOT_DIR, CPP_DATA_DIR\n",
    "import glob\n",
    "import pandas as pd\n",
    "\n",
    "\n",
    "\n",
    "def load_SIR_trajectories(filename):\n",
    "    trajs = glob.glob(CPP_DATA_DIR + \"*.csv\")\n",
    "    dfs = [pd.read_csv(traj) for traj in trajs]\n",
    "    N_traj = len(dfs)\n",
    "    X = [df[['S', 'I', 'R']].to_numpy() for df in dfs]\n",
    "    U = [df['p_I'].to_numpy() for df in dfs]\n",
    "\n",
    "    return X, U\n",
    "\n",
    "def plot_separate(X, reg_model):\n",
    "    x_grouped = [X[:,i,:] for i in range(3)]\n",
    "    X_list = [x.T for x in X]\n",
    "    fig, ax = plt.subplots(3,2)\n",
    "    t = np.linspace(0,1,x_grouped[0].shape[1])\n",
    "    sim = reg_model.simulate(x0=X_list[0][0,:], t=np.linspace(0,1, t.shape[0]))\n",
    "\n",
    "    for ci in np.arange(95, 10, -5):\n",
    "        for (i, x) in enumerate(x_grouped):\n",
    "            low = np.percentile(x, 50 - ci / 2, axis=0)\n",
    "            high = np.percentile(x, 50 + ci / 2, axis=0)\n",
    "            ax[i,0].fill_between(t, low, high, color='gray', alpha= np.exp(-.01*ci))\n",
    "\n",
    "    ax[0,0].set_title(\"Susceptible\")\n",
    "    ax[1,0].set_title(\"Infected\")\n",
    "    ax[2,0].set_title(\"Recovered\")\n",
    "    _ = [x.grid() for x in ax[:,0]]\n",
    "    _ = [x.tick_params(axis='x', which='both', bottom=False, top=False, labelbottom=False) for x in ax[:,0]]\n",
    "    _ = [x.tick_params(axis='y', which='both', bottom=False, top=False, labelbottom=False) for x in ax[:,0]]\n",
    "    \n",
    "    for i in range(N_sim):\n",
    "        x0 = X_list[i][0,:]\n",
    "        sim = reg_model.simulate(x0=x0, t=np.linspace(0,1, t.shape[0]))\n",
    "        ax[0,1].plot(t,sim[:,0], color='k')\n",
    "        ax[1,1].plot(t, sim[:,1], color='k')\n",
    "        ax[2,1].plot(t, sim[:,2], color='k')\n",
    "\n",
    "    ax[0,1].set_title(\"Susceptible\")\n",
    "    ax[1,1].set_title(\"Infected\")\n",
    "    ax[2,1].set_title(\"Recovered\")\n",
    "    _ = [x.grid() for x in ax[:,1]]\n",
    "    _ = [x.tick_params(axis='x', which='both', bottom=False, top=False, labelbottom=False) for x in ax[:,1]]\n",
    "    _ = [x.tick_params(axis='y', which='both', bottom=False, top=False, labelbottom=False) for x in ax[:,1]]\n",
    "    \n",
    "def plot_merged(X, U, reg_model):\n",
    "    x_grouped = [np.concatenate([x[:,i][:, np.newaxis] for x in X], axis=1) for i in range(3)]\n",
    "    fig, ax = plt.subplots(4)\n",
    "    t = np.linspace(0,1,X[0].shape[0])\n",
    "    sim = reg_model.simulate(x0=X[0][0,:], u=U, t=np.linspace(0,1, t.shape[0]))\n",
    "    print(x_grouped[0].shape)\n",
    "    for ci in np.arange(95, 10, -5):\n",
    "        for (i, x) in enumerate(x_grouped):\n",
    "            low = np.percentile(x, 50 - ci / 2, axis=1)\n",
    "            high = np.percentile(x, 50 + ci / 2, axis=1)\n",
    "            ax[i].fill_between(t, low, high, color='gray', alpha= np.exp(-.01*ci))\n",
    "\n",
    "    ax[0].set_title(\"Susceptible\")\n",
    "    ax[1].set_title(\"Infected\")\n",
    "    ax[2].set_title(\"Recovered\")\n",
    "    _ = [x.grid() for x in ax[:]]\n",
    "    _ = [x.tick_params(axis='x', which='both', bottom=False, top=False, labelbottom=False) for x in ax]\n",
    "    _ = [x.tick_params(axis='y', which='both', bottom=False, top=False, labelbottom=False) for x in ax]\n",
    "    \n",
    "    sim = reg_model.simulate(x0=X[0][0,:], u= U, t=np.linspace(0,1, U.shape[0]))\n",
    "    print(sim.shape)\n",
    "    ax[0].plot(t[:-1],sim[:,0], color='k')\n",
    "    ax[1].plot(t[:-1], sim[:,1], color='k')\n",
    "    ax[2].plot(t[:-1], sim[:,2], color='k')\n",
    "    ax[3].plot(t, U, color='k')\n",
    "    fig.subplots_adjust(hspace=.3)\n",
    "\n",
    "    return fig, ax\n",
    "\n",
    "\n"
   ]
  },
  {
   "cell_type": "code",
   "execution_count": 3,
   "metadata": {},
   "outputs": [],
   "source": [
    "X_data, U_data = load_SIR_trajectories('SIR_trajectories_20_0.1.csv')\n",
    "X_mat = np.stack(X_data, axis=2)\n"
   ]
  },
  {
   "cell_type": "code",
   "execution_count": 122,
   "metadata": {},
   "outputs": [
    {
     "name": "stdout",
     "output_type": "stream",
     "text": [
      "(x0)' = 12.421 x0 + -1.563 x0 x1 + 1.117 x0 x2 + -338.126 x0 u0\n",
      "(x1)' = -12.167 x0 + -0.853 x1 + 1.522 x0 x1 + 374.873 x0 u0\n",
      "(x2)' = 1.164 x1 + 5.241 x2 + 6.087 x0 x2 + -0.158 x1 x2\n"
     ]
    }
   ],
   "source": [
    "U_mean = np.mean(U_data, axis=0)\n",
    "X0_mean = np.mean(X_mat[0,:,:], axis=1)\n",
    "X_mean = np.mean(X_mat, axis=2)\n",
    "Nt = X_data[0].shape[0]\n",
    "N_sim = len(X_data)\n",
    "# In[8]:\n",
    "\n",
    "\n",
    "t = [*list(range(Nt))]*N_sim\n",
    "\n",
    "# In[10]:\n",
    "\n",
    "\n",
    "# from Quantile_STLSQ import Quantile_STLSQ\n",
    "# from Quantile_FROLS import Quantile_FROLS\n",
    "# reg_model = ps.SINDy(Quantile_STLSQ(tau=.95, threshold=1e-6, alpha=1e-6))\n",
    "# reg_model = ps.SINDy(Quantile_FROLS(tau=.95, verbose=True, max_iter = 3))\n",
    "lowPolyLib = ps.PolynomialLibrary(degree=2, interaction_only=True)\n",
    "# reg_model = ps.SINDy(ps.STLSQ(threshold=5), feature_library=lowPolyLib)\n",
    "reg_model = ps.SINDy(ps.FROLS(max_iter=4), feature_library=lowPolyLib)\n",
    "reg_model.fit(X_data[0],u=U_data[0], t=np.linspace(0,1,Nt))\n",
    "\n",
    "reg_model.print()\n",
    "\n"
   ]
  },
  {
   "cell_type": "code",
   "execution_count": 123,
   "metadata": {},
   "outputs": [],
   "source": [
    "from pysindy_casadi_converter import construct_mx_equations\n",
    "import casadi as cs\n",
    "Nx = 3\n",
    "Nu = 1\n",
    "xk = cs.MX.sym('X', Nx)\n",
    "uk = cs.MX.sym('U', Nu)\n",
    "eqs = cs.vertcat(*construct_mx_equations(xk, uk, reg_model))\n",
    "F = cs.Function('F', [xk, uk], [eqs])"
   ]
  },
  {
   "cell_type": "code",
   "execution_count": 124,
   "metadata": {},
   "outputs": [],
   "source": [
    "def RK4(f, x0, u, h):\n",
    "    k1 = h*f(x0, u)\n",
    "    k2 = h*f(x0 + k1/2, u)\n",
    "    k3 = h*f(x0 + k2/2, u)\n",
    "    k4 = h*f(x0 + k3, u)\n",
    "    return x0 + (k1 + 2*k2 + 2*k3 + k4)/6\n",
    "\n",
    "def N_RK4(f, x0, u, h, N):\n",
    "    xk = x0\n",
    "    for i in range(N):\n",
    "        xk = RK4(f, xk, u, h/N)\n",
    "    return xk"
   ]
  },
  {
   "cell_type": "code",
   "execution_count": 132,
   "metadata": {},
   "outputs": [],
   "source": [
    "dt = .01\n",
    "# F_integrator = cs.Function('F_integrator', [xk, uk], [xk_1])\n",
    "xk_1 = N_RK4(F, xk, uk, dt, 8)\n",
    "F_integrator = cs.Function('F_integrator', [xk, uk], [xk_1])"
   ]
  },
  {
   "cell_type": "code",
   "execution_count": 140,
   "metadata": {},
   "outputs": [],
   "source": [
    "X = cs.MX.sym('X', Nx, Nt)\n",
    "U = cs.MX.sym('U', Nu, Nt)\n",
    "U0 = U_mean\n",
    "\n",
    "g = []\n",
    "N_pop = 60\n",
    "I0 = .1*N_pop\n",
    "u_max = .1\n",
    "u_min = 0.01\n",
    "obj = 0\n",
    "Xk = X0_mean\n",
    "I_max = N_pop-10\n",
    "# for i in range(Nt):\n",
    "#     Xk = F_integrator(Xk, U[i])\n",
    "#     obj += (u_max-U[i])**2\n",
    "#     g.append(I_max - Xk[1])\n",
    "gI = []\n",
    "gx = []\n",
    "for i in range(Nt):\n",
    "    if (i == 0):\n",
    "        g.append(X[:,i] - X0_mean)\n",
    "    gx.append(X[:,i] - F_integrator(X[:,i-1], U[i]))\n",
    "    obj += (u_max - U[i])**2\n",
    "    gI.append(I_max-Xk[1])\n",
    "gx = cs.vertcat(*gx)\n",
    "gI = cs.vertcat(*gI)\n",
    "\n",
    "g = gx"
   ]
  },
  {
   "cell_type": "code",
   "execution_count": 144,
   "metadata": {},
   "outputs": [],
   "source": [
    "X0 = cs.DM(3, Nt)\n",
    "X0[:,0] = X0_mean\n",
    "U0 = cs.DM.ones(Nt)*u_max\n",
    "for i in range(Nt-1):\n",
    "    X0[:,i+1] = F_integrator(X0[:,i], U0[i])"
   ]
  },
  {
   "cell_type": "code",
   "execution_count": 145,
   "metadata": {},
   "outputs": [
    {
     "name": "stdout",
     "output_type": "stream",
     "text": [
      "This is Ipopt version 3.14.4, running with linear solver MUMPS 5.4.1.\n",
      "\n",
      "Number of nonzeros in equality constraint Jacobian...:     1500\n",
      "Number of nonzeros in inequality constraint Jacobian.:        0\n",
      "Number of nonzeros in Lagrangian Hessian.............:     1000\n",
      "\n",
      "Total number of variables............................:      400\n",
      "                     variables with only lower bounds:        0\n",
      "                variables with lower and upper bounds:      400\n",
      "                     variables with only upper bounds:        0\n",
      "Total number of equality constraints.................:      300\n",
      "Total number of inequality constraints...............:        0\n",
      "        inequality constraints with only lower bounds:        0\n",
      "   inequality constraints with lower and upper bounds:        0\n",
      "        inequality constraints with only upper bounds:        0\n",
      "\n",
      "iter    objective    inf_pr   inf_du lg(mu)  ||d||  lg(rg) alpha_du alpha_pr  ls\n",
      "   0  8.0998236e-05 5.39e+01 1.64e-03  -1.0 0.00e+00    -  0.00e+00 0.00e+00   0\n",
      "   1  7.8313886e-05 5.39e+01 1.17e+00  -1.0 7.91e+02    -  2.00e-04 9.28e-05h  1\n",
      "   2  7.4589957e-05 5.39e+01 6.64e+02  -1.0 3.47e+02    -  5.77e-03 2.99e-05h  1\n",
      "   3  3.5962441e-05 5.39e+01 1.72e+03  -1.0 2.25e+03    -  5.36e-04 1.24e-04h  1\n",
      "   4r 3.5962441e-05 5.39e+01 9.99e+02   1.7 0.00e+00    -  0.00e+00 3.87e-07R  5\n",
      "   5r 4.4664248e-02 4.57e+01 9.97e+02   1.7 4.04e+03    -  1.52e-03 2.01e-03f  1\n",
      "   6  4.3666004e-02 4.57e+01 1.01e+03  -1.0 7.15e+02    -  7.92e-05 2.75e-05h  1\n",
      "   7  3.9724480e-02 4.57e+01 2.07e+03  -1.0 1.34e+03    -  2.04e-03 8.36e-05h  1\n",
      "   8  3.6748709e-03 4.57e+01 9.44e+02  -1.0 8.77e+02    -  1.18e-04 1.01e-03h  1\n",
      "   9  3.1299377e-03 4.57e+01 2.22e+04  -1.0 2.14e+03    -  3.64e-03 2.89e-04h  1\n",
      "iter    objective    inf_pr   inf_du lg(mu)  ||d||  lg(rg) alpha_du alpha_pr  ls\n",
      "  10r 3.1299377e-03 4.57e+01 1.00e+03   1.7 0.00e+00    -  0.00e+00 2.58e-07R  6\n",
      "  11r 8.6064756e-03 4.01e+01 1.01e+03   1.7 4.45e+03    -  3.21e-03 1.24e-03f  1\n",
      "  12r 8.6064756e-03 4.01e+01 9.99e+02   1.6 0.00e+00    -  0.00e+00 2.96e-07R  5\n",
      "  13r 7.0210234e-01 3.93e+01 9.97e+02   1.6 6.15e+03    -  1.07e-04 2.16e-03f  1\n",
      "  14r 5.6954902e-01 3.84e+01 9.96e+02   0.9 2.23e+03    -  2.90e-03 1.37e-03f  1\n",
      "  15r 4.1271045e-01 3.78e+01 9.92e+02   0.9 1.10e+03    -  1.88e-03 3.22e-03f  1\n",
      "  16r 2.7761443e-01 3.72e+01 9.86e+02   0.9 5.12e+02    -  1.21e-02 6.08e-03f  1\n",
      "  17r 2.2660706e-01 3.66e+01 9.74e+02   0.9 1.88e+02    -  9.74e-03 1.27e-02f  1\n",
      "  18r 1.9593697e-01 3.61e+01 9.73e+02   0.9 6.87e+01    -  6.72e-03 1.95e-02f  1\n",
      "  19r 1.8249111e-01 3.57e+01 9.39e+02   0.9 7.09e+01    -  3.47e-02 1.63e-02f  1\n",
      "iter    objective    inf_pr   inf_du lg(mu)  ||d||  lg(rg) alpha_du alpha_pr  ls\n",
      "  20  1.7921836e-01 3.57e+01 3.90e+00  -1.0 1.77e+02    -  2.49e-03 5.20e-04h  1\n",
      "  21  1.6173892e-01 3.56e+01 6.65e+00  -1.0 1.96e+02    -  1.82e-03 1.46e-03h  1\n",
      "  22  1.4668966e-01 3.56e+01 7.58e+01  -1.0 2.01e+02    -  6.83e-03 1.21e-03h  1\n",
      "  23  1.1288981e-01 3.55e+01 3.82e+02  -1.0 2.32e+02    -  1.29e-02 2.06e-03h  1\n",
      "  24  8.7218462e-02 3.55e+01 3.24e+02  -1.0 3.57e+02    -  8.39e-04 1.53e-03h  1\n",
      "  25  8.6958353e-02 3.55e+01 5.32e+02  -1.0 3.42e+02    -  1.81e-03 1.68e-05h  1\n",
      "  26  5.2856251e-02 3.54e+01 1.44e+03  -1.0 2.47e+02    -  5.35e-03 1.73e-03h  1\n",
      "  27  4.8416480e-02 3.54e+01 5.25e+03  -1.0 2.53e+02    -  1.96e-03 2.29e-04h  1\n",
      "  28  5.4218886e-02 3.54e+01 5.04e+03  -1.0 8.50e+02    -  3.72e-05 6.78e-05h  1\n",
      "  29  5.3898876e-02 3.54e+01 2.34e+04  -1.0 2.55e+02    -  1.93e-03 2.09e-05h  1\n",
      "iter    objective    inf_pr   inf_du lg(mu)  ||d||  lg(rg) alpha_du alpha_pr  ls\n",
      "  30  4.6098597e-02 3.54e+01 4.11e+04  -1.0 2.50e+02    -  1.08e-03 5.90e-04h  1\n",
      "  31  4.5911718e-02 3.54e+01 1.90e+06  -1.0 2.48e+02    -  2.80e-03 8.71e-05h  1\n",
      "  32  4.5901885e-02 3.54e+01 3.19e+08  -1.0 2.48e+02    -  2.38e-03 1.46e-05h  1\n",
      "  33r 4.5901885e-02 3.54e+01 1.00e+03   1.5 0.00e+00    -  0.00e+00 1.72e-07R  2\n",
      "  34r 4.1595307e-02 3.56e+01 1.09e+03   1.5 3.12e+02    -  2.70e-02 1.45e-02f  1\n",
      "  35r 4.8880454e-02 3.32e+01 1.11e+03   0.8 1.15e+03    -  3.97e-03 9.91e-03f  1\n",
      "  36r 4.8684892e-02 3.01e+01 1.10e+03   0.8 5.29e+02    -  1.30e-02 8.84e-03f  1\n",
      "  37  4.9081158e-02 3.01e+01 1.19e+00  -1.0 2.61e+02    -  5.20e-05 1.14e-04f  1\n",
      "  38  4.9083106e-02 3.01e+01 1.27e+00  -1.0 1.51e+02    -  7.54e-05 7.45e-04f  1\n",
      "  39  1.6137096e-01 2.62e+01 4.06e+02  -1.0 1.59e+02    -  1.69e-03 1.33e-01f  1\n",
      "iter    objective    inf_pr   inf_du lg(mu)  ||d||  lg(rg) alpha_du alpha_pr  ls\n",
      "  40  1.6258140e-01 2.62e+01 4.06e+02  -1.0 6.75e+02   2.0 7.73e-05 2.34e-05h  1\n",
      "  41  1.6272041e-01 2.62e+01 4.06e+02  -1.0 4.49e+02   2.4 3.45e-04 1.19e-05h  1\n",
      "  42  1.7560227e-01 2.62e+01 4.05e+02  -1.0 5.55e+02   1.9 1.87e-04 2.42e-04h  1\n",
      "  43  1.7964711e-01 2.62e+01 4.05e+02  -1.0 4.99e+02   1.5 9.08e-04 1.48e-04h  1\n",
      "  44  1.7941372e-01 2.62e+01 4.05e+02  -1.0 3.95e+02   1.9 1.59e-04 1.59e-04h  1\n",
      "  45  1.8122017e-01 2.61e+01 4.05e+02  -1.0 4.16e+02   1.4 3.09e-04 5.20e-04h  1\n",
      "  46  1.8175139e-01 2.61e+01 4.05e+02  -1.0 3.95e+02   1.8 1.18e-03 2.05e-04h  1\n",
      "  47  1.8194214e-01 2.61e+01 4.20e+02  -1.0 3.93e+02   1.4 1.17e-03 2.87e-04h  1\n",
      "  48  1.8284393e-01 2.61e+01 5.63e+02  -1.0 3.96e+02   1.8 1.49e-03 3.92e-04h  1\n",
      "  49  1.8460999e-01 2.61e+01 5.68e+02  -1.0 4.13e+02   1.3 2.53e-04 1.64e-04h  1\n",
      "iter    objective    inf_pr   inf_du lg(mu)  ||d||  lg(rg) alpha_du alpha_pr  ls\n",
      "  50  1.8573237e-01 2.61e+01 6.08e+02  -1.0 4.26e+02   1.7 4.49e-04 1.36e-04h  1\n",
      "  51  1.8657565e-01 2.61e+01 6.16e+02  -1.0 4.20e+02   1.3 2.14e-04 5.62e-05h  1\n",
      "  52  1.8890218e-01 2.61e+01 6.35e+02  -1.0 4.33e+02   1.7 3.37e-04 1.78e-04h  1\n",
      "  53  1.8967884e-01 2.61e+01 6.39e+02  -1.0 4.30e+02   1.2 2.04e-04 1.00e-04h  1\n",
      "  54  1.9299070e-01 2.61e+01 6.53e+02  -1.0 4.37e+02   1.6 3.01e-04 1.69e-04h  1\n",
      "  55  1.9401400e-01 2.61e+01 6.80e+02  -1.0 4.27e+02   1.2 1.10e-03 2.19e-04h  1\n",
      "  56  1.9659616e-01 2.61e+01 7.73e+02  -1.0 4.38e+02   1.6 1.69e-03 4.57e-04h  1\n",
      "  57  2.1636533e-01 2.60e+01 7.23e+02  -1.0 4.14e+02   1.1 9.90e-04 2.85e-03h  1\n",
      "  58  2.1800767e-01 2.60e+01 7.26e+02  -1.0 3.91e+02   0.6 3.50e-04 3.09e-05h  1\n",
      "  59r 2.1800767e-01 2.60e+01 9.99e+02   1.4 0.00e+00   1.1 0.00e+00 3.02e-07R  3\n",
      "iter    objective    inf_pr   inf_du lg(mu)  ||d||  lg(rg) alpha_du alpha_pr  ls\n",
      "  60r 2.1020613e-01 2.45e+01 1.00e+03   1.4 3.72e+03    -  3.22e-03 4.03e-04f  1\n",
      "  61r 2.0826691e-01 2.11e+01 1.00e+03   1.4 3.28e+03    -  5.89e-03 1.03e-03f  1\n",
      "  62  2.0083874e-01 2.09e+01 3.06e+01  -1.0 3.13e+02    -  3.65e-04 1.14e-02f  1\n",
      "  63  2.0365357e-01 2.09e+01 3.05e+01  -1.0 2.80e+02    -  4.35e-03 2.70e-03h  1\n",
      "  64  2.1191351e-01 2.08e+01 3.04e+01  -1.0 2.73e+02    -  2.56e-04 3.79e-03f  1\n",
      "  65  2.1671708e-01 2.07e+01 3.03e+01  -1.0 2.57e+02    -  3.44e-03 4.71e-03f  1\n",
      "  66  2.2735419e-01 2.05e+01 3.01e+01  -1.0 2.40e+02    -  4.85e-03 6.64e-03f  1\n",
      "  67  2.5832881e-01 2.03e+01 2.98e+01  -1.0 2.25e+02    -  1.30e-02 1.42e-02h  1\n",
      "  68  2.8053341e-01 2.01e+01 2.96e+01  -1.0 2.06e+02    -  2.74e-03 5.65e-03h  1\n",
      "  69  3.0404478e-01 2.01e+01 2.95e+01  -1.0 2.02e+02    -  3.39e-03 4.44e-03h  1\n",
      "iter    objective    inf_pr   inf_du lg(mu)  ||d||  lg(rg) alpha_du alpha_pr  ls\n",
      "  70  3.2140703e-01 2.00e+01 2.93e+01  -1.0 1.92e+02    -  3.55e-03 3.84e-03h  1\n",
      "  71  3.4665280e-01 1.99e+01 2.92e+01  -1.0 1.84e+02    -  3.78e-03 5.51e-03h  1\n",
      "  72  3.6665740e-01 1.98e+01 2.90e+01  -1.0 1.74e+02    -  3.99e-03 5.20e-03h  1\n",
      "  73  3.8520520e-01 1.97e+01 2.89e+01  -1.0 1.68e+02    -  4.23e-03 5.06e-03h  1\n",
      "  74  4.0298090e-01 1.96e+01 2.87e+01  -1.0 1.62e+02    -  3.98e-03 5.32e-03h  1\n",
      "  75  4.1857364e-01 1.95e+01 2.86e+01  -1.0 1.58e+02    -  4.18e-03 5.09e-03h  1\n",
      "  76  4.3364023e-01 1.94e+01 2.84e+01  -1.0 1.55e+02    -  4.36e-03 5.21e-03h  1\n",
      "  77  4.4765062e-01 1.93e+01 2.83e+01  -1.0 1.53e+02    -  4.40e-03 5.23e-03h  1\n",
      "  78  4.6080753e-01 1.92e+01 2.81e+01  -1.0 1.53e+02    -  4.09e-03 5.30e-03h  1\n",
      "  79  4.7188664e-01 1.91e+01 2.80e+01  -1.0 1.54e+02    -  4.48e-03 5.02e-03h  1\n",
      "iter    objective    inf_pr   inf_du lg(mu)  ||d||  lg(rg) alpha_du alpha_pr  ls\n",
      "  80  4.8231087e-01 1.90e+01 2.78e+01  -1.0 1.56e+02    -  3.95e-03 5.11e-03h  1\n",
      "  81  4.9093911e-01 1.89e+01 2.77e+01  -1.0 1.59e+02    -  4.05e-03 4.95e-03h  1\n",
      "  82  4.9877374e-01 1.88e+01 2.87e+01  -1.0 1.65e+02    -  4.25e-03 5.15e-03h  1\n",
      "  83  5.0591351e-01 1.87e+01 4.72e+01  -1.0 1.72e+02    -  1.04e-03 5.22e-03h  1\n",
      "  84  5.0807610e-01 1.86e+01 3.66e+01  -1.0 1.77e+02    -  4.08e-03 2.01e-03h  1\n",
      "  85  5.1291548e-01 1.86e+01 3.41e+01  -1.0 1.84e+02    -  4.25e-03 3.66e-03h  1\n",
      "  86  5.1435880e-01 1.85e+01 3.27e+01  -1.0 2.05e+02    -  2.27e-03 1.82e-03h  1\n",
      "  87  5.1598985e-01 1.85e+01 3.65e+01  -1.0 1.93e+02    -  1.16e-03 2.03e-03h  1\n",
      "  88  5.1607365e-01 1.85e+01 3.50e+01  -1.0 2.01e+02    -  1.73e-03 1.38e-03h  1\n",
      "  89  5.1484088e-01 1.84e+01 4.61e+01  -1.0 1.93e+02    -  3.38e-04 2.01e-03h  1\n",
      "iter    objective    inf_pr   inf_du lg(mu)  ||d||  lg(rg) alpha_du alpha_pr  ls\n",
      "  90  5.1682606e-01 1.83e+01 1.06e+02  -1.0 1.93e+02    -  2.29e-03 6.94e-03h  1\n",
      "  91  5.1850252e-01 1.83e+01 3.07e+01  -1.0 1.97e+02    -  9.63e-03 1.49e-03h  1\n",
      "  92  5.1791006e-01 1.83e+01 3.14e+01  -1.0 2.12e+02    -  1.32e-03 9.23e-04h  1\n",
      "  93  5.1681115e-01 1.82e+01 3.54e+01  -1.0 2.02e+02    -  5.52e-05 2.55e-03h  1\n",
      "  94  5.1581700e-01 1.82e+01 3.37e+01  -1.0 2.00e+02    -  8.21e-04 6.01e-04h  1\n",
      "  95  5.1318186e-01 1.81e+01 1.48e+02  -1.0 1.89e+02    -  8.60e-04 7.50e-03h  1\n",
      "  96  5.1318060e-01 1.81e+01 7.22e+01  -1.0 1.94e+02    -  3.61e-03 1.57e-04h  1\n",
      "  97  5.0991275e-01 1.80e+01 1.20e+02  -1.0 2.30e+02    -  4.62e-04 2.05e-03h  1\n",
      "  98  5.0570665e-01 1.80e+01 1.83e+02  -1.0 1.93e+02    -  5.61e-05 2.62e-03f  1\n",
      "  99  5.0505443e-01 1.79e+01 2.09e+02  -1.0 1.85e+02    -  2.67e-03 3.83e-03h  1\n",
      "iter    objective    inf_pr   inf_du lg(mu)  ||d||  lg(rg) alpha_du alpha_pr  ls\n",
      " 100  5.0574344e-01 1.79e+01 1.76e+02  -1.0 1.81e+02    -  2.65e-03 1.30e-03h  1\n",
      " 101  5.0499320e-01 1.79e+01 1.81e+02  -1.0 1.97e+02    -  6.43e-04 8.06e-04h  1\n",
      " 102  5.0452162e-01 1.79e+01 1.82e+02  -1.0 1.78e+02    -  4.71e-04 5.09e-04h  1\n",
      " 103  5.0449270e-01 1.79e+01 1.22e+02  -1.0 2.28e+02    -  1.56e-03 1.90e-05h  1\n",
      " 104  4.9957387e-01 1.78e+01 2.43e+02  -1.0 2.28e+02    -  1.56e-05 2.98e-03h  1\n",
      " 105  4.9831384e-01 1.78e+01 3.21e+02  -1.0 1.78e+02    -  4.29e-04 3.18e-03h  1\n",
      " 106  4.9834109e-01 1.77e+01 2.91e+02  -1.0 1.94e+02    -  9.35e-04 1.78e-04h  1\n",
      " 107  4.9730469e-01 1.77e+01 3.36e+02  -1.0 1.76e+02    -  1.58e-04 1.60e-03h  1\n",
      " 108  4.9730364e-01 1.77e+01 2.06e+02  -1.0 1.71e+02    -  1.60e-02 1.75e-05h  1\n",
      " 109  4.9730831e-01 1.77e+01 2.53e+02  -1.0 2.52e+02    -  6.15e-04 4.43e-05h  1\n",
      "iter    objective    inf_pr   inf_du lg(mu)  ||d||  lg(rg) alpha_du alpha_pr  ls\n",
      " 110  4.9509081e-01 1.77e+01 1.67e+02  -1.0 2.05e+02    -  9.68e-06 1.22e-03h  1\n",
      " 111  4.9412905e-01 1.77e+01 7.66e+01  -1.0 1.59e+02    -  2.96e-04 2.03e-03f  1\n",
      " 112  4.9336077e-01 1.77e+01 7.92e+01  -1.0 1.82e+02    -  3.62e-04 3.26e-04h  1\n",
      " 113  4.8955803e-01 1.76e+01 4.13e+01  -1.0 1.62e+02    -  2.23e-04 1.67e-03f  1\n",
      " 114  4.8954873e-01 1.76e+01 6.43e+01  -1.0 1.58e+02    -  1.07e-03 1.87e-05h  1\n",
      " 115r 4.8954873e-01 1.76e+01 1.00e+03   1.2 0.00e+00    -  0.00e+00 2.70e-07R  6\n",
      " 116r 4.8037763e-01 1.71e+01 9.98e+02   1.2 1.36e+03    -  5.33e-03 3.58e-04f  1\n",
      " 117r 4.8078530e-01 1.59e+01 9.97e+02   1.2 1.14e+03    -  7.17e-04 1.19e-03f  1\n",
      " 118  4.8071831e-01 1.59e+01 2.12e+01  -1.0 1.31e+02    -  2.59e-03 1.77e-04h  1\n",
      " 119  4.7919284e-01 1.58e+01 1.20e+01  -1.0 1.43e+02    -  4.87e-04 1.22e-03h  1\n",
      "iter    objective    inf_pr   inf_du lg(mu)  ||d||  lg(rg) alpha_du alpha_pr  ls\n",
      " 120  4.8010339e-01 1.58e+01 2.84e+01  -1.0 1.49e+02    -  2.52e-03 1.36e-03h  1\n",
      " 121  4.7667666e-01 1.58e+01 1.55e+01  -1.0 1.73e+02    -  1.32e-03 2.88e-03h  1\n",
      " 122  4.7427091e-01 1.57e+01 1.46e+01  -1.0 1.75e+02    -  1.95e-03 1.94e-03h  1\n",
      " 123  4.7318004e-01 1.57e+01 9.22e+00  -1.0 2.04e+02    -  7.71e-04 5.24e-04h  1\n",
      " 124  4.6971336e-01 1.57e+01 3.91e+01  -1.0 1.85e+02    -  1.11e-04 8.55e-04h  1\n",
      " 125  4.6949344e-01 1.57e+01 7.20e+02  -1.0 2.15e+02    -  1.03e-02 8.63e-05h  1\n",
      " 126  4.6622535e-01 1.57e+01 6.53e+02  -1.0 2.36e+02    -  2.88e-03 3.16e-03h  1\n",
      " 127  4.6563159e-01 1.57e+01 1.13e+03  -1.0 2.76e+02    -  1.70e-03 6.79e-04h  1\n",
      " 128  4.6508880e-01 1.56e+01 5.49e+02  -1.0 2.77e+02    -  2.32e-04 9.51e-04h  1\n",
      " 129  4.6086879e-01 1.56e+01 4.79e+02  -1.0 3.47e+02    -  1.21e-04 9.36e-04h  1\n",
      "iter    objective    inf_pr   inf_du lg(mu)  ||d||  lg(rg) alpha_du alpha_pr  ls\n",
      " 130  4.6001393e-01 1.56e+01 1.59e+03  -1.0 3.57e+02    -  3.65e-05 5.50e-04h  1\n",
      " 131r 4.6001393e-01 1.56e+01 9.99e+02   1.2 0.00e+00    -  0.00e+00 3.26e-07R  5\n",
      " 132r 4.5932677e-01 1.56e+01 1.00e+03   1.2 1.14e+03    -  1.56e-04 4.30e-05f  1\n",
      " 133r 4.5887578e-01 1.56e+01 1.02e+03   1.2 1.13e+03    -  4.27e-03 7.77e-05f  1\n",
      " 134r 4.5344024e-01 1.64e+01 1.12e+03   1.2 8.98e+02    -  2.32e-02 4.48e-03f  1\n",
      " 135  4.5348336e-01 1.64e+01 1.25e+01  -1.0 1.63e+02    -  4.81e-04 3.75e-05h  1\n",
      " 136  4.5351666e-01 1.64e+01 1.54e+01  -1.0 1.80e+02    -  6.73e-05 3.37e-05h  1\n",
      " 137  4.5359520e-01 1.64e+01 2.59e+01  -1.0 1.75e+02    -  1.70e-04 8.14e-05h  1\n",
      " 138  4.5355833e-01 1.64e+01 8.80e+01  -1.0 2.10e+02    -  3.20e-04 2.90e-05h  1\n",
      " 139  4.5282584e-01 1.64e+01 7.50e+01  -1.0 2.01e+02    -  9.88e-05 1.30e-04h  1\n",
      "iter    objective    inf_pr   inf_du lg(mu)  ||d||  lg(rg) alpha_du alpha_pr  ls\n",
      " 140  4.5231631e-01 1.64e+01 1.02e+02  -1.0 2.80e+02    -  1.21e-04 8.00e-05h  1\n",
      " 141r 4.5231631e-01 1.64e+01 9.99e+02   1.1 0.00e+00    -  0.00e+00 3.62e-07R  4\n",
      " 142r 4.5432589e-01 1.64e+01 9.99e+02   1.1 9.41e+02    -  8.73e-05 9.35e-05f  1\n",
      " 143r 4.5119455e-01 1.65e+01 9.98e+02   1.1 8.53e+02    -  2.71e-03 3.92e-04f  1\n",
      " 144r 4.3686305e-01 1.71e+01 9.94e+02   1.1 7.33e+02    -  5.52e-03 4.31e-03f  1\n",
      " 145  4.3717046e-01 1.71e+01 1.45e+01  -1.0 1.49e+02    -  1.55e-03 1.05e-04h  1\n",
      " 146  4.3840204e-01 1.71e+01 2.09e+01  -1.0 2.02e+02    -  5.99e-04 3.13e-04h  1\n",
      " 147  4.3935105e-01 1.71e+01 4.06e+01  -1.0 2.15e+02    -  7.66e-04 2.05e-04h  1\n",
      " 148  4.4066382e-01 1.70e+01 5.72e+01  -1.0 2.21e+02    -  5.76e-04 2.78e-04h  1\n",
      " 149  4.4131172e-01 1.70e+01 9.39e+01  -1.0 2.21e+02    -  5.42e-04 1.27e-04h  1\n",
      "iter    objective    inf_pr   inf_du lg(mu)  ||d||  lg(rg) alpha_du alpha_pr  ls\n",
      " 150  4.4177700e-01 1.70e+01 1.75e+02  -1.0 2.15e+02    -  7.12e-04 9.62e-05h  1\n",
      " 151  4.4207690e-01 1.70e+01 2.70e+02  -1.0 2.09e+02    -  5.38e-04 6.97e-05h  1\n",
      " 152  4.4283218e-01 1.70e+01 3.96e+02  -1.0 2.28e+02    -  5.63e-04 1.43e-04h  1\n",
      " 153  4.4308670e-01 1.70e+01 4.72e+02  -1.0 1.99e+02    -  2.26e-04 7.13e-05h  1\n",
      " 154  4.4316609e-01 1.70e+01 6.46e+02  -1.0 2.30e+02    -  3.02e-04 2.86e-05h  1\n",
      " 155  4.4369362e-01 1.70e+01 6.70e+02  -1.0 2.49e+02    -  1.49e-04 1.20e-04h  1\n",
      " 156  4.4376053e-01 1.70e+01 1.74e+03  -1.0 1.86e+02    -  9.89e-04 2.20e-05h  1\n",
      " 157  4.4415186e-01 1.70e+01 1.80e+03  -1.0 2.28e+02    -  1.35e-04 1.05e-04h  1\n",
      " 158  4.4417895e-01 1.70e+01 2.83e+03  -1.0 2.39e+02    -  3.70e-04 1.40e-05h  1\n",
      " 159  4.4485798e-01 1.70e+01 4.11e+03  -1.0 2.64e+02    -  4.46e-04 1.39e-04h  1\n",
      "iter    objective    inf_pr   inf_du lg(mu)  ||d||  lg(rg) alpha_du alpha_pr  ls\n",
      " 160r 4.4485798e-01 1.70e+01 9.99e+02   1.0 0.00e+00    -  0.00e+00 2.79e-07R  6\n",
      " 161r 4.4591716e-01 1.72e+01 1.07e+03   1.0 6.21e+02    -  1.00e-02 1.05e-03f  1\n",
      " 162r 4.4436617e-01 1.77e+01 1.12e+03   1.0 3.15e+02    -  1.55e-02 8.47e-03f  1\n",
      " 163r 4.3795792e-01 1.84e+01 1.29e+03   1.0 1.24e+02    -  5.40e-02 2.22e-02f  1\n",
      " 164r 4.2484740e-01 1.85e+01 1.65e+03   1.0 1.72e+01    -  1.70e-01 3.61e-02f  1\n",
      " 165r 3.5359154e-01 1.76e+01 1.30e+03   1.0 6.90e+00    -  2.72e-01 2.30e-01f  1\n",
      " 166r 2.6994741e-01 1.63e+01 7.68e+02   1.0 3.47e+00    -  1.04e-01 3.68e-01f  1\n",
      " 167r 2.5887149e-01 1.61e+01 7.32e+02   1.0 9.40e+00    -  5.02e-02 6.58e-02f  1\n",
      " 168r 1.7739152e-01 1.54e+01 3.23e+02   1.0 1.67e+00    -  6.59e-01 6.93e-01f  1\n",
      " 169r 1.2316732e-01 1.57e+01 1.66e+02   0.3 2.04e+00    -  3.71e-01 6.04e-01f  1\n",
      "iter    objective    inf_pr   inf_du lg(mu)  ||d||  lg(rg) alpha_du alpha_pr  ls\n",
      " 170r 1.0673076e-01 1.57e+01 1.30e+02   0.3 1.38e+00    -  2.24e-01 2.19e-01f  1\n",
      " 171r 8.4058626e-02 1.57e+01 9.06e+01   0.3 1.14e+00    -  5.10e-01 3.76e-01f  1\n",
      " 172r 6.4564363e-02 1.60e+01 7.17e+01  -0.4 1.26e+00    -  5.48e-01 4.03e-01f  1\n",
      " 173r 4.3829609e-02 1.62e+01 2.28e+01  -0.4 8.01e-01    -  5.10e-01 5.73e-01f  1\n",
      " 174r 3.9080375e-02 1.63e+01 1.86e+01  -0.4 6.61e-01    -  8.13e-01 6.11e-01f  1\n",
      " 175r 3.6029057e-02 1.63e+01 3.48e+01  -0.4 3.01e-01    -  1.00e+00 5.87e-01f  1\n",
      " 176r 3.4814012e-02 1.64e+01 3.21e-01  -0.4 6.26e-02    -  1.00e+00 1.00e+00f  1\n",
      " 177r 3.6617533e-02 1.65e+01 1.49e+00  -2.7 1.53e-01    -  5.97e-01 5.84e-01f  1\n",
      " 178r 4.2927853e-02 1.65e+01 5.37e+00  -2.7 9.45e-02    -  6.24e-01 6.54e-01f  1\n",
      " 179r 4.5597592e-02 1.65e+01 7.12e+01  -2.7 4.92e-02    -  5.58e-01 7.70e-01f  1\n",
      "iter    objective    inf_pr   inf_du lg(mu)  ||d||  lg(rg) alpha_du alpha_pr  ls\n",
      " 180r 4.2794913e-02 1.65e+01 2.07e+01  -2.7 1.93e-02    -  7.73e-01 7.14e-01f  1\n",
      " 181r 3.8916837e-02 1.65e+01 5.60e+01  -2.7 2.35e-02    -  9.15e-01 7.59e-01f  1\n",
      " 182r 3.8442646e-02 1.65e+01 1.74e+01  -2.7 5.51e-03   2.0 6.86e-01 7.61e-01f  1\n",
      " 183r 3.7376591e-02 1.65e+01 5.45e+01  -2.7 3.11e-02    -  1.00e+00 6.86e-01f  1\n",
      " 184r 3.7395596e-02 1.65e+01 1.17e-01  -2.7 5.93e-03    -  1.00e+00 1.00e+00f  1\n",
      " 185r 3.7395355e-02 1.65e+01 2.76e-03  -2.7 8.44e-04    -  1.00e+00 1.00e+00h  1\n",
      " 186r 3.7800364e-02 1.65e+01 8.20e-01  -6.1 1.27e-02    -  8.53e-01 9.11e-01f  1\n",
      " 187r 3.7876109e-02 1.65e+01 7.56e-01  -6.1 6.93e-03    -  9.48e-01 7.80e-01f  1\n",
      " 188r 3.7897688e-02 1.65e+01 3.34e-03  -6.1 4.71e-03    -  1.00e+00 9.97e-01f  1\n",
      " 189r 3.7905241e-02 1.65e+01 2.23e-05  -6.1 1.41e-03    -  1.00e+00 1.00e+00f  1\n",
      "iter    objective    inf_pr   inf_du lg(mu)  ||d||  lg(rg) alpha_du alpha_pr  ls\n",
      " 190r 3.7907077e-02 1.65e+01 2.91e-04  -9.0 2.59e-04    -  9.99e-01 1.00e+00h  1\n",
      "\n",
      "Number of Iterations....: 190\n",
      "\n",
      "                                   (scaled)                 (unscaled)\n",
      "Objective...............:   3.7907126902277322e-02    3.7907126902277322e-02\n",
      "Dual infeasibility......:   1.7999731997243573e-01    1.7999731997243573e-01\n",
      "Constraint violation....:   9.4388555521312369e+00    1.6506270110714865e+01\n",
      "Variable bound violation:   5.9996494172764869e-07    5.9996494172764869e-07\n",
      "Complementarity.........:   9.0948133823747428e-10    9.0948133823747428e-10\n",
      "Overall NLP error.......:   9.4388555521312369e+00    1.6506270110714865e+01\n",
      "\n",
      "\n",
      "Number of objective function evaluations             = 234\n",
      "Number of objective gradient evaluations             = 148\n",
      "Number of equality constraint evaluations            = 234\n",
      "Number of inequality constraint evaluations          = 0\n",
      "Number of equality constraint Jacobian evaluations   = 201\n",
      "Number of inequality constraint Jacobian evaluations = 0\n",
      "Number of Lagrangian Hessian evaluations             = 191\n",
      "Total seconds in IPOPT                               = 16.063\n",
      "\n",
      "EXIT: Converged to a point of local infeasibility. Problem may be infeasible.\n",
      "      solver  :   t_proc      (avg)   t_wall      (avg)    n_eval\n",
      "       nlp_f  |   9.34ms ( 39.90us)   9.30ms ( 39.73us)       234\n",
      "       nlp_g  | 877.15ms (  3.75ms) 878.06ms (  3.75ms)       234\n",
      "  nlp_grad_f  |   8.22ms ( 55.19us)   8.23ms ( 55.24us)       149\n",
      "  nlp_hess_l  |   9.59 s ( 52.68ms)   9.60 s ( 52.75ms)       182\n",
      "   nlp_jac_g  |   5.13 s ( 25.41ms)   5.14 s ( 25.45ms)       202\n",
      "       total  |  16.04 s ( 16.04 s)  16.06 s ( 16.06 s)         1\n"
     ]
    }
   ],
   "source": [
    "\n",
    "W = cs.vertcat(X.reshape((-1,1)), U.T)\n",
    "W0 = cs.vertcat(X0.reshape((-1,1)), U0)\n",
    "# prob = {'f': obj, 'x': W, 'g': g}\n",
    "# solver = cs.nlpsol('solver', 'ipopt', prob)\n",
    "lbw = [0]*Nx*Nt, [u_min]*Nt\n",
    "lbw = cs.vertcat(*lbw)\n",
    "ubx = cs.DM.ones(Nx*Nt)*N_pop\n",
    "for i in range(Nt):\n",
    "    ubx[1+3*i] = I_max\n",
    "ubw = cs.vertcat(ubx, cs.DM.ones(Nt)*u_max)\n",
    "Ng = g.shape[0]\n",
    "lbg = cs.DM.zeros(Ng)\n",
    "ubg = cs.DM.zeros(gx.shape[0])\n",
    "# sol = solver(x0=cs.vertcat(X0[:], U_mean), lbx = lbw, ubx = ubw, lbg = lbg, ubg=ubg)\n",
    "prob = {'f': obj, 'x': W, 'g': g}\n",
    "solver = cs.nlpsol('solver', 'ipopt', prob)\n",
    "sol = solver(x0=W0, lbx = lbw, ubx = ubw, lbg = lbg, ubg=ubg)\n"
   ]
  },
  {
   "cell_type": "code",
   "execution_count": 102,
   "metadata": {},
   "outputs": [
    {
     "data": {
      "text/plain": [
       "DM([0.3, 0.3, 0.3, 0.3, 0.3, 0.3, 0.3, 0.3, 0.3, 0.3, 0.3, 0.3, 0.3, 0.3, 0.3, 0.3, 0.3, 0.3, 0.3, 0.3, 0.3, 0.3, 0.3, 0.3, 0.3, 0.3, 0.3, 0.3, 0.3, 0.3, 0.3, 0.3, 0.3, 0.3, 0.3, 0.3, 0.3, 0.3, 0.3, 0.3, 0.3, 0.3, 0.3, 0.3, 0.3, 0.3, 0.3, 0.3, 0.3, 0.3, 0.3, 0.3, 0.3, 0.3, 0.3, 0.3, 0.3, 0.3, 0.3, 0.3, 0.3, 0.3, 0.3, 0.3, 0.3, 0.3, 0.3, 0.3, 0.3, 0.3, 0.3, 0.3, 0.3, 0.3, 0.3, 0.3, 0.3, 0.3, 0.3, 0.3, 0.3, 0.3, 0.3, 0.3, 0.3, 0.3, 0.3, 0.3, 0.3, 0.3, 0.3, 0.3, 0.3, 0.3, 0.3, 0.3, 0.3, 0.3, 0.3, 0.3])"
      ]
     },
     "execution_count": 102,
     "metadata": {},
     "output_type": "execute_result"
    }
   ],
   "source": [
    "U0"
   ]
  },
  {
   "cell_type": "code",
   "execution_count": 146,
   "metadata": {},
   "outputs": [
    {
     "data": {
      "image/png": "[encoded data removed]",
      "text/plain": [
       "<Figure size 432x288 with 3 Axes>"
      ]
     },
     "metadata": {
      "needs_background": "light"
     },
     "output_type": "display_data"
    }
   ],
   "source": [
    "fig, ax = plt.subplots(3)\n",
    "X_sol = sol['x'][:-Nt].reshape((Nx, Nt))\n",
    "for i in range(Nx):\n",
    "    ax[i].plot(X_mean[:,i])\n",
    "    ax[i].plot(X0.full()[i,:].T)\n",
    "    ax[i].plot(X_sol.full()[i,:])\n",
    "    ax[i].set_ylim([0, N_pop])"
   ]
  },
  {
   "cell_type": "code",
   "execution_count": 137,
   "metadata": {},
   "outputs": [
    {
     "data": {
      "text/plain": [
       "[<matplotlib.lines.Line2D at 0x7fabab1d8bb0>]"
      ]
     },
     "execution_count": 137,
     "metadata": {},
     "output_type": "execute_result"
    },
    {
     "data": {
      "image/png": "[encoded data removed]",
      "text/plain": [
       "<Figure size 432x288 with 1 Axes>"
      ]
     },
     "metadata": {
      "needs_background": "light"
     },
     "output_type": "display_data"
    }
   ],
   "source": [
    "plt.plot(sol['x'][-Nt:].full())"
   ]
  },
  {
   "cell_type": "code",
   "execution_count": null,
   "metadata": {},
   "outputs": [
    {
     "data": {
      "text/plain": [
       "<matplotlib.image.AxesImage at 0x7f2a9ef46b60>"
      ]
     },
     "execution_count": 12,
     "metadata": {},
     "output_type": "execute_result"
    },
    {
     "data": {
      "image/png": "[encoded data removed]",
      "text/plain": [
       "<Figure size 432x288 with 1 Axes>"
      ]
     },
     "metadata": {
      "needs_background": "light"
     },
     "output_type": "display_data"
    }
   ],
   "source": [
    "lbd = cs.MX.sym('lbd', g.shape[0])\n",
    "sparsity = cs.jacobian(cs.jacobian(obj + lbd.T @ g, W), W).sparsity()\n",
    "plt.spy(sparsity)"
   ]
  },
  {
   "cell_type": "code",
   "execution_count": null,
   "metadata": {},
   "outputs": [
    {
     "data": {
      "text/plain": [
       "<matplotlib.image.AxesImage at 0x7f2a9c089ba0>"
      ]
     },
     "execution_count": 13,
     "metadata": {},
     "output_type": "execute_result"
    },
    {
     "data": {
      "image/png": "[encoded data removed]",
      "text/plain": [
       "<Figure size 432x288 with 1 Axes>"
      ]
     },
     "metadata": {
      "needs_background": "light"
     },
     "output_type": "display_data"
    }
   ],
   "source": [
    "sparsity = cs.jacobian(cs.jacobian(obj, U), U).sparsity()\n",
    "plt.spy(sparsity)"
   ]
  },
  {
   "cell_type": "code",
   "execution_count": null,
   "metadata": {},
   "outputs": [
    {
     "name": "stdout",
     "output_type": "stream",
     "text": [
      "100 100\n"
     ]
    }
   ],
   "source": [
    "print(np.linalg.matrix_rank(sparsity), sparsity.shape[0])"
   ]
  },
  {
   "cell_type": "code",
   "execution_count": null,
   "metadata": {},
   "outputs": [
    {
     "ename": "Exception",
     "evalue": "CasADi matrices are not iterable by design.\n                      Did you mean to iterate over m.nz, with m IM/DM/SX?\n                      Did you mean to iterate over horzsplit(m,1)/vertsplit(m,1) with m IM/DM/SX/MX?\n                      ",
     "output_type": "error",
     "traceback": [
      "\u001b[0;31m---------------------------------------------------------------------------\u001b[0m",
      "\u001b[0;31mException\u001b[0m                                 Traceback (most recent call last)",
      "\u001b[1;32m/home/arch/Documents/Bernoulli_Network_Optimal_Control/Python/Regression.ipynb Cell 14\u001b[0m in \u001b[0;36m<cell line: 1>\u001b[0;34m()\u001b[0m\n\u001b[0;32m----> <a href='vscode-notebook-cell:/home/arch/Documents/Bernoulli_Network_Optimal_Control/Python/Regression.ipynb#X13sZmlsZQ%3D%3D?line=0'>1</a>\u001b[0m fig, ax \u001b[39m=\u001b[39m plot_merged(X, U_mean, reg_model)\n\u001b[1;32m      <a href='vscode-notebook-cell:/home/arch/Documents/Bernoulli_Network_Optimal_Control/Python/Regression.ipynb#X13sZmlsZQ%3D%3D?line=2'>3</a>\u001b[0m fig\u001b[39m.\u001b[39msavefig(FIGURE_DIR \u001b[39m+\u001b[39m \u001b[39m'\u001b[39m\u001b[39mSIR_merged.png\u001b[39m\u001b[39m'\u001b[39m, bbox_inches\u001b[39m=\u001b[39m\u001b[39m'\u001b[39m\u001b[39mtight\u001b[39m\u001b[39m'\u001b[39m)\n\u001b[1;32m      <a href='vscode-notebook-cell:/home/arch/Documents/Bernoulli_Network_Optimal_Control/Python/Regression.ipynb#X13sZmlsZQ%3D%3D?line=3'>4</a>\u001b[0m fig\u001b[39m.\u001b[39mshow()\n",
      "\u001b[1;32m/home/arch/Documents/Bernoulli_Network_Optimal_Control/Python/Regression.ipynb Cell 14\u001b[0m in \u001b[0;36mplot_merged\u001b[0;34m(X, U, reg_model)\u001b[0m\n\u001b[1;32m     <a href='vscode-notebook-cell:/home/arch/Documents/Bernoulli_Network_Optimal_Control/Python/Regression.ipynb#X13sZmlsZQ%3D%3D?line=61'>62</a>\u001b[0m \u001b[39mdef\u001b[39;00m \u001b[39mplot_merged\u001b[39m(X, U, reg_model):\n\u001b[0;32m---> <a href='vscode-notebook-cell:/home/arch/Documents/Bernoulli_Network_Optimal_Control/Python/Regression.ipynb#X13sZmlsZQ%3D%3D?line=62'>63</a>\u001b[0m     x_grouped \u001b[39m=\u001b[39m [np\u001b[39m.\u001b[39mconcatenate([x[:,i][:, np\u001b[39m.\u001b[39mnewaxis] \u001b[39mfor\u001b[39;00m x \u001b[39min\u001b[39;00m X], axis\u001b[39m=\u001b[39m\u001b[39m1\u001b[39m) \u001b[39mfor\u001b[39;00m i \u001b[39min\u001b[39;00m \u001b[39mrange\u001b[39m(\u001b[39m3\u001b[39m)]\n\u001b[1;32m     <a href='vscode-notebook-cell:/home/arch/Documents/Bernoulli_Network_Optimal_Control/Python/Regression.ipynb#X13sZmlsZQ%3D%3D?line=63'>64</a>\u001b[0m     fig, ax \u001b[39m=\u001b[39m plt\u001b[39m.\u001b[39msubplots(\u001b[39m4\u001b[39m)\n\u001b[1;32m     <a href='vscode-notebook-cell:/home/arch/Documents/Bernoulli_Network_Optimal_Control/Python/Regression.ipynb#X13sZmlsZQ%3D%3D?line=64'>65</a>\u001b[0m     t \u001b[39m=\u001b[39m np\u001b[39m.\u001b[39mlinspace(\u001b[39m0\u001b[39m,\u001b[39m1\u001b[39m,X[\u001b[39m0\u001b[39m]\u001b[39m.\u001b[39mshape[\u001b[39m0\u001b[39m])\n",
      "\u001b[1;32m/home/arch/Documents/Bernoulli_Network_Optimal_Control/Python/Regression.ipynb Cell 14\u001b[0m in \u001b[0;36m<listcomp>\u001b[0;34m(.0)\u001b[0m\n\u001b[1;32m     <a href='vscode-notebook-cell:/home/arch/Documents/Bernoulli_Network_Optimal_Control/Python/Regression.ipynb#X13sZmlsZQ%3D%3D?line=61'>62</a>\u001b[0m \u001b[39mdef\u001b[39;00m \u001b[39mplot_merged\u001b[39m(X, U, reg_model):\n\u001b[0;32m---> <a href='vscode-notebook-cell:/home/arch/Documents/Bernoulli_Network_Optimal_Control/Python/Regression.ipynb#X13sZmlsZQ%3D%3D?line=62'>63</a>\u001b[0m     x_grouped \u001b[39m=\u001b[39m [np\u001b[39m.\u001b[39mconcatenate([x[:,i][:, np\u001b[39m.\u001b[39mnewaxis] \u001b[39mfor\u001b[39;00m x \u001b[39min\u001b[39;00m X], axis\u001b[39m=\u001b[39m\u001b[39m1\u001b[39m) \u001b[39mfor\u001b[39;00m i \u001b[39min\u001b[39;00m \u001b[39mrange\u001b[39m(\u001b[39m3\u001b[39m)]\n\u001b[1;32m     <a href='vscode-notebook-cell:/home/arch/Documents/Bernoulli_Network_Optimal_Control/Python/Regression.ipynb#X13sZmlsZQ%3D%3D?line=63'>64</a>\u001b[0m     fig, ax \u001b[39m=\u001b[39m plt\u001b[39m.\u001b[39msubplots(\u001b[39m4\u001b[39m)\n\u001b[1;32m     <a href='vscode-notebook-cell:/home/arch/Documents/Bernoulli_Network_Optimal_Control/Python/Regression.ipynb#X13sZmlsZQ%3D%3D?line=64'>65</a>\u001b[0m     t \u001b[39m=\u001b[39m np\u001b[39m.\u001b[39mlinspace(\u001b[39m0\u001b[39m,\u001b[39m1\u001b[39m,X[\u001b[39m0\u001b[39m]\u001b[39m.\u001b[39mshape[\u001b[39m0\u001b[39m])\n",
      "File \u001b[0;32m~/Env/Default/lib/python3.10/site-packages/casadi/casadi.py:10851\u001b[0m, in \u001b[0;36mMX.__iter__\u001b[0;34m(self)\u001b[0m\n\u001b[1;32m  10850\u001b[0m \u001b[39mdef\u001b[39;00m \u001b[39m__iter__\u001b[39m(\u001b[39mself\u001b[39m):\n\u001b[0;32m> 10851\u001b[0m   \u001b[39mraise\u001b[39;00m \u001b[39mException\u001b[39;00m(\u001b[39m\"\"\"\u001b[39m\u001b[39mCasADi matrices are not iterable by design.\u001b[39m\n\u001b[1;32m  10852\u001b[0m \u001b[39m                  Did you mean to iterate over m.nz, with m IM/DM/SX?\u001b[39m\n\u001b[1;32m  10853\u001b[0m \u001b[39m                  Did you mean to iterate over horzsplit(m,1)/vertsplit(m,1) with m IM/DM/SX/MX?\u001b[39m\n\u001b[1;32m  10854\u001b[0m \u001b[39m                  \u001b[39m\u001b[39m\"\"\"\u001b[39m)\n",
      "\u001b[0;31mException\u001b[0m: CasADi matrices are not iterable by design.\n                      Did you mean to iterate over m.nz, with m IM/DM/SX?\n                      Did you mean to iterate over horzsplit(m,1)/vertsplit(m,1) with m IM/DM/SX/MX?\n                      "
     ]
    }
   ],
   "source": [
    "fig, ax = plot_merged(X, U_mean, reg_model)\n",
    "\n",
    "fig.savefig(FIGURE_DIR + 'SIR_merged.png', bbox_inches='tight')\n",
    "fig.show()"
   ]
  }
 ],
 "metadata": {
  "kernelspec": {
   "display_name": "Python 3.10.5 ('Default')",
   "language": "python",
   "name": "python3"
  },
  "language_info": {
   "codemirror_mode": {
    "name": "ipython",
    "version": 3
   },
   "file_extension": ".py",
   "mimetype": "text/x-python",
   "name": "python",
   "nbconvert_exporter": "python",
   "pygments_lexer": "ipython3",
   "version": "3.10.6"
  },
  "orig_nbformat": 4,
  "vscode": {
   "interpreter": {
    "hash": "95313a7be8ede263c18f783d64ae8a5700a2c5efb3a48a28682de2dd828335b5"
   }
  }
 },
 "nbformat": 4,
 "nbformat_minor": 2
}
